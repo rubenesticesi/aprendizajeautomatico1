{
 "cells": [
  {
   "cell_type": "markdown",
   "id": "5caec48d-ae44-49ae-99ca-91743db6aaa1",
   "metadata": {},
   "source": [
    "<img src=https://audiovisuales.icesi.edu.co/assets/custom/images/ICESI_logo_prin_descriptor_RGB_POSITIVO_0924.jpg width=200>\n",
    "\n",
    "*Milton Orlando Sarria Paja, PhD.*\n",
    "\n",
    "----\n",
    "\n",
    "### **Práctica: Predicción del Valor de Mercado de Jugadores de Fútbol**\n",
    "\n",
    "**Objetivo General:** Utilizar técnicas de regresión lineal para construir modelos que predigan el valor de mercado de un jugador (`Value_millions`) basándose en sus atributos de rendimiento y características personales.\n",
    "\n",
    "---\n",
    "\n",
    "### **Ejercicio 1: Identificación de Variables y Análisis de Dependencia 🔍**\n",
    "\n",
    "El primer paso en cualquier proyecto de modelado es entender profundamente los datos con los que trabajamos.\n",
    "\n",
    "**Tareas:**\n",
    "\n",
    "1.  **Identificar Variables Relevantes:**\n",
    "    * Del listado de columnas, crea una lista de **todas las variables numéricas** que podrían ser útiles para predecir el valor de un jugador.\n",
    "    * Excluye explícitamente las variables que son identificadores (como `player_id`) o categóricas puras (como `player_name`, `country`, `position`, `club_name`, etc.).\n",
    "\n",
    "2.  **Análisis de Correlación:**\n",
    "    * Una vez cargados los datos, calcula la matriz de correlación entre todas las variables numéricas que identificaste y la variable objetivo `Value_millions`.\n",
    "    * Visualiza esta matriz utilizando un **mapa de calor (heatmap)**. Esto te dará una visión rápida de las relaciones lineales más fuertes.\n",
    "\n",
    "3.  **Análisis Visual:**\n",
    "    * Crea **gráficos de dispersión (scatter plots)** para visualizar la relación entre `Value_millions` y las 3-4 variables que mostraron la correlación más alta en el paso anterior.\n",
    "\n",
    "**Preguntas para Reflexión y Discusión:**\n",
    "\n",
    "* **Pregunta 1.1:** Según el mapa de calor, ¿cuáles son las tres variables con la correlación positiva más fuerte con `Value_millions`?\n",
    "* **Pregunta 1.2:** Observa el gráfico de dispersión de `age` vs. `Value_millions`. ¿La relación parece ser una línea recta? Describe la forma que observas. (Esta observación será clave para el Ejercicio 5).\n",
    "* **Pregunta 1.3:** ¿Qué variable, si alguna, parece tener una relación lineal casi perfecta con `Value_millions`? ¿Podría esto ser un problema o es algo esperado?\n",
    "\n",
    "---"
   ]
  },
  {
   "cell_type": "code",
   "execution_count": null,
   "id": "8793584a-8ff3-46f4-b56d-c7d7f2f305ca",
   "metadata": {},
   "outputs": [],
   "source": []
  },
  {
   "cell_type": "markdown",
   "id": "6d4bf2e3-3d72-4916-b7d7-2dd800869da5",
   "metadata": {},
   "source": [
    "### **Ejercicio 2: Regresión Lineal Simple y Verificación de Supuestos**\n",
    "\n",
    "Ahora construiremos nuestro primer modelo predictivo utilizando solo la mejor variable predictora que encontramos.\n",
    "\n",
    "**Tareas:**\n",
    "\n",
    "1.  **Construir el Modelo:**\n",
    "    * Selecciona la variable predictora que tuvo la correlación más alta con `Value_millions` en el ejercicio anterior (probablemente `overall` o `potential`).\n",
    "    * Divide tus datos en un conjunto de entrenamiento (70%) y un conjunto de prueba (30%).\n",
    "    * Entrena un modelo de Regresión Lineal Simple usando solo esta variable para predecir `Value_millions`.\n",
    "\n",
    "2.  **Interpretar y Evaluar:**\n",
    "    * Obtén e interpreta el intercepto ($\\theta_0$) y el coeficiente ($\\theta_1$) del modelo.\n",
    "    * Calcula el coeficiente de determinación (R²) en el conjunto de prueba.\n",
    "\n",
    "3.  **Verificar los Supuestos Teóricos:**\n",
    "    * Calcula los **residuos** del modelo en el conjunto de prueba (valor real - valor predicho).\n",
    "    * **Normalidad:** Crea un histograma de los residuos. ¿Siguen una distribución normal (forma de campana)?\n",
    "    * **Homocedasticidad:** Crea un gráfico de dispersión con los valores predichos en el eje X y los residuos en el eje Y.\n",
    "\n",
    "**Preguntas para Reflexión y Discusión:**\n",
    "\n",
    "* **Pregunta 2.1:** Explica con tus propias palabras qué significa el coeficiente $\\theta_1$ que obtuviste. Por ejemplo: \"Por cada punto que aumenta [tu variable], el valor de mercado del jugador aumenta/disminuye en X millones de dólares\".\n",
    "* **Pregunta 2.2:** ¿Qué te dice el valor de R² sobre qué tan bien tu modelo de una sola variable puede explicar la variación en el valor de mercado de los jugadores?\n",
    "* **Pregunta 2.3:** Observando el gráfico de residuos vs. valores predichos, ¿los puntos forman una nube aleatoria sin patrón alrededor de la línea cero, o ves alguna forma (como un cono o un embudo)? ¿Qué te dice esto sobre el supuesto de homocedasticidad?\n",
    "\n",
    "---"
   ]
  },
  {
   "cell_type": "code",
   "execution_count": null,
   "id": "0c15a405-21cf-47a5-bdec-244d763736a9",
   "metadata": {},
   "outputs": [],
   "source": []
  },
  {
   "cell_type": "code",
   "execution_count": null,
   "id": "f0c10427-f1f7-4be6-a16d-6a00dd262a3f",
   "metadata": {},
   "outputs": [],
   "source": []
  },
  {
   "cell_type": "markdown",
   "id": "bdbb7bab-0a2e-4dfa-b4a4-c150ef19b127",
   "metadata": {},
   "source": [
    "### **Ejercicio 3: Regresión Lineal Múltiple 🏙️**\n",
    "\n",
    "Un solo atributo no es suficiente para determinar el valor de un jugador. Usemos múltiples variables para crear un modelo más robusto.\n",
    "\n",
    "**Tareas:**\n",
    "\n",
    "1.  **Construir el Modelo Múltiple:**\n",
    "    * Selecciona un conjunto de 4 a 6 de las variables predictoras numéricas más prometedoras (ej. `overall`, `potential`, `age`, `international_reputation`, `skill_moves`, etc.).\n",
    "    * Entrena un nuevo modelo de Regresión Lineal Múltiple utilizando todas estas variables para predecir `Value_millions`. Asegúrate de usar los mismos conjuntos de entrenamiento y prueba.\n",
    "\n",
    "2.  **Interpretar y Evaluar:**\n",
    "    * Obtén e imprime los coeficientes para cada una de las variables.\n",
    "    * Calcula el nuevo R² del modelo múltiple.\n",
    "\n",
    "**Preguntas para Reflexión y Discusión:**\n",
    "\n",
    "* **Pregunta 3.1:** Compara el R² del modelo múltiple con el del modelo simple. ¿Mejoró significativamente el modelo al añadir más información?\n",
    "* **Pregunta 3.2:** Observa el coeficiente de la variable `age`. ¿Es positivo o negativo? ¿Qué te dice esto sobre cómo cambia el valor de un jugador con la edad, *manteniendo constantes todos los demás factores como su `overall` y `potential`*?\n",
    "* **Pregunta 3.3:** ¿Es posible que una variable que parecía importante en el análisis de correlación inicial tenga un coeficiente pequeño o inesperado en el modelo múltiple? ¿Por qué podría ocurrir esto?\n",
    "\n",
    "---\n"
   ]
  },
  {
   "cell_type": "code",
   "execution_count": null,
   "id": "78b5084e-bf6c-49b0-b8e5-1650fc757a5f",
   "metadata": {},
   "outputs": [],
   "source": []
  },
  {
   "cell_type": "code",
   "execution_count": null,
   "id": "c07c6e17-3b81-40dd-8f7e-6047c3d04021",
   "metadata": {},
   "outputs": [],
   "source": []
  },
  {
   "cell_type": "markdown",
   "id": "32ee80c4-ddcd-401f-b378-22af35734daa",
   "metadata": {},
   "source": [
    "### **Ejercicio 4: Regresión Lineal Polinomial 🎢**\n",
    "\n",
    "Recordemos la relación entre `age` y `Value_millions`. No era lineal. Vamos a intentar capturar esa curva.\n",
    "\n",
    "**Tareas:**\n",
    "\n",
    "1.  **Construir el Modelo Polinomial:**\n",
    "    * Enfócate nuevamente en predecir `Value_millions` usando únicamente la variable `age`.\n",
    "    * Crea un modelo de Regresión Polinomial de **grado 2**. Esto significa que usarás `age` y `age²` como tus características. (Sugerencia: usa `PolynomialFeatures` de Scikit-Learn dentro de un `Pipeline`).\n",
    "    * Entrena el modelo.\n",
    "\n",
    "2.  **Visualizar y Evaluar:**\n",
    "    * Crea un gráfico de dispersión de `age` vs. `Value_millions`.\n",
    "    * Superpón en el mismo gráfico la curva de tu modelo polinomial ajustado.\n",
    "    * Compara el R² de este modelo con el R² del modelo de regresión simple que usaba solo `age`.\n",
    "\n",
    "**Preguntas para Reflexión y Discusión:**\n",
    "\n",
    "* **Pregunta 4.1:** Viendo el gráfico, ¿el modelo polinomial de grado 2 captura mejor la relación entre la edad y el valor de mercado que una simple línea recta?\n",
    "* **Pregunta 4.2 (Reto):** Intenta construir un modelo polinomial de grado muy alto (ej. grado 10) usando `age`. ¿Qué le pasa a la curva? Explica con tus palabras por qué este modelo, aunque se ajuste muy bien a los datos de entrenamiento, es un mal modelo. ¿Cómo se llama este fenómeno?"
   ]
  },
  {
   "cell_type": "code",
   "execution_count": null,
   "id": "13e5e01b-5eaf-4e0d-9234-949b6d0cfbb0",
   "metadata": {},
   "outputs": [],
   "source": []
  },
  {
   "cell_type": "code",
   "execution_count": null,
   "id": "92f58400-91d4-4665-a59b-5b8a9645f4cc",
   "metadata": {},
   "outputs": [],
   "source": []
  },
  {
   "cell_type": "code",
   "execution_count": null,
   "id": "0001704b-75f5-4d6b-9fe3-be784e93e9f8",
   "metadata": {},
   "outputs": [],
   "source": []
  }
 ],
 "metadata": {
  "kernelspec": {
   "display_name": "Python 3 (ipykernel)",
   "language": "python",
   "name": "python3"
  },
  "language_info": {
   "codemirror_mode": {
    "name": "ipython",
    "version": 3
   },
   "file_extension": ".py",
   "mimetype": "text/x-python",
   "name": "python",
   "nbconvert_exporter": "python",
   "pygments_lexer": "ipython3",
   "version": "3.9.23"
  }
 },
 "nbformat": 4,
 "nbformat_minor": 5
}
