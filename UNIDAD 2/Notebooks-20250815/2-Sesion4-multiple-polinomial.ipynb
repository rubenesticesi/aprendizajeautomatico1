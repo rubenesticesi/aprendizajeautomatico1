{
 "cells": [
  {
   "attachments": {},
   "cell_type": "markdown",
   "id": "7ec81b26-98ff-4849-9928-71bf7530f7cc",
   "metadata": {},
   "source": [
    "<img src=https://audiovisuales.icesi.edu.co/assets/custom/images/ICESI_logo_prin_descriptor_RGB_POSITIVO_0924.jpg width=200>\n",
    "\n",
    "*Milton Orlando Sarria Paja, PhD.*\n",
    "\n",
    "----\n",
    "### 📌 **Extensión al Modelo de Regresión Lineal Múltiple**\n",
    "\n",
    "\n",
    "La **regresión lineal múltiple** es una extensión de la regresión lineal simple que permite modelar la relación entre una variable dependiente $ y $ y múltiples variables independientes $ x_1, x_2, \\dots, x_n $. \n",
    "Este modelo es ampliamente utilizado en estadística y aprendizaje automático para predecir valores numéricos y analizar la relación entre múltiples variables.\n",
    "En el modelo de regresión lineal múltiple, la relación se extiende a múltiples variables independientes. Matemáticamente, el modelo se expresa como:\n",
    "\n",
    "\n",
    "$ h(\\mathbf{x}) = \\theta_0 + \\theta_1 \\cdot x_1 + \\theta_2 \\cdot x_2 + \\ldots + \\theta_n \\cdot x_n $\n",
    "\n",
    "donde:\n",
    "- $ h(\\mathbf{x}) $: valor estimado de la variable dependiente.\n",
    "- $ \\theta_0 $: intercepto.\n",
    "- $ \\theta_1, \\theta_2, \\ldots, \\theta_n $: coeficientes de las variables independientes $ x_1, x_2, \\ldots, x_n $.\n",
    "\n",
    "Los supuestos mencionados anteriormente se mantienen en el modelo múltiple, con la consideración adicional de que no debe existir multicolinealidad perfecta entre las variables independientes, es decir, las variables explicativas no deben estar perfectamente correlacionadas entre sí.\n",
    "\n",
    "En notación matricial, la ecuación se puede reescribir como:  \n",
    "\n",
    "$\n",
    " \\mathbf{y} = h(\\mathbf{x}) = \\mathbf{X} \\boldsymbol{\\theta} + \\boldsymbol{\\varepsilon}\n",
    "$\n",
    "\n",
    "donde:  \n",
    "- $ \\mathbf{y} $ es un vector columna de dimensión $ m \\times 1 $ con las observaciones de la variable dependiente,  \n",
    "- $ \\mathbf{X} $ es una matriz de dimensión $ m \\times (n+1)$) que contiene las observaciones de las variables independientes, donde la primera columna es un vector de unos para incluir el término $ \\theta_0 $,  \n",
    "- $ \\boldsymbol{\\theta} $ es un vector de dimensión $ (n+1) \\times 1 $ que agrupa los parámetros del modelo,  \n",
    "- $ \\boldsymbol{\\varepsilon} $ es un vector de errores de dimensión $ m \\times 1 $.  \n",
    "\n",
    "El objetivo del modelo es encontrar los valores de $ \\boldsymbol{\\theta} $ que minimicen la función de costo, generalmente definida como el **error cuadrático medio (MSE)**:\n",
    "\n",
    "$\n",
    "J(\\boldsymbol{\\theta}) = \\frac{1}{2m} \\sum_{i=1}^{m} (h_{\\boldsymbol{\\theta}}(x^{(i)}) - y^{(i)})^2\n",
    "$\n",
    "\n",
    "\n",
    "Para minimizar $ J(\\boldsymbol{\\theta}) $, se suelen emplear métodos como la **inversa de la matriz normal** (cuando $ \\mathbf{X}^T\\mathbf{X} $ es invertible) o algoritmos iterativos como el **descenso de gradiente**.  \n",
    "\n",
    "\n",
    "\n",
    "\n"
   ]
  },
  {
   "cell_type": "code",
   "execution_count": 9,
   "id": "af3fe47f-5abb-4f31-92dc-dc51d177f290",
   "metadata": {},
   "outputs": [],
   "source": [
    "#librerias\n",
    "import pandas as pd\n",
    "import numpy as np\n",
    "import statsmodels.api as sm\n",
    "import statsmodels.formula.api as smf\n",
    "import seaborn as sns\n",
    "from sklearn.model_selection import train_test_split\n",
    "from sklearn.metrics import mean_squared_error, r2_score"
   ]
  },
  {
   "cell_type": "markdown",
   "id": "a4509108-1e5a-4b24-972c-05a703afbb14",
   "metadata": {},
   "source": [
    "#### **Multicolinealidad en Regresión Lineal Múltiple**\n",
    "\n",
    "Generamos datos donde dos variables independientes están altamente correlacionadas:"
   ]
  },
  {
   "cell_type": "code",
   "execution_count": 2,
   "id": "9abe9536-7620-49b5-9fc1-d7759917cad1",
   "metadata": {},
   "outputs": [
    {
     "name": "stdout",
     "output_type": "stream",
     "text": [
      "                            OLS Regression Results                            \n",
      "==============================================================================\n",
      "Dep. Variable:                      y   R-squared:                       0.994\n",
      "Model:                            OLS   Adj. R-squared:                  0.994\n",
      "Method:                 Least Squares   F-statistic:                     7882.\n",
      "Date:                Tue, 12 Aug 2025   Prob (F-statistic):          4.39e-108\n",
      "Time:                        16:38:44   Log-Likelihood:                -144.45\n",
      "No. Observations:                 100   AIC:                             294.9\n",
      "Df Residuals:                      97   BIC:                             302.7\n",
      "Df Model:                           2                                         \n",
      "Covariance Type:            nonrobust                                         \n",
      "==============================================================================\n",
      "                 coef    std err          t      P>|t|      [0.025      0.975]\n",
      "------------------------------------------------------------------------------\n",
      "const          2.2156      0.208     10.628      0.000       1.802       2.629\n",
      "x1            -8.9198     11.142     -0.801      0.425     -31.033      13.194\n",
      "x2            13.3986     11.137      1.203      0.232      -8.704      35.502\n",
      "==============================================================================\n",
      "Omnibus:                        2.457   Durbin-Watson:                   1.625\n",
      "Prob(Omnibus):                  0.293   Jarque-Bera (JB):                1.893\n",
      "Skew:                          -0.313   Prob(JB):                        0.388\n",
      "Kurtosis:                       3.251   Cond. No.                     1.24e+03\n",
      "==============================================================================\n",
      "\n",
      "Notes:\n",
      "[1] Standard Errors assume that the covariance matrix of the errors is correctly specified.\n",
      "[2] The condition number is large, 1.24e+03. This might indicate that there are\n",
      "strong multicollinearity or other numerical problems.\n"
     ]
    }
   ],
   "source": [
    "m = 100\n",
    "x = np.linspace(0, 10, m)  # m puntos equidistantes entre 0 y 10\n",
    "# Generación de datos con multicolinealidad\n",
    "x2 = x + np.random.normal(0, 0.01, m)  # Alta correlación con x\n",
    "y_multi = 2 + 3 * x + 1.5 * x2 + np.random.normal(0, 1, m)\n",
    "\n",
    "# Creación del DataFrame\n",
    "data_multi = pd.DataFrame({'x1': x, 'x2': x2, 'y': y_multi})\n",
    "\n",
    "# Ajuste del modelo múltiple\n",
    "X_multi = sm.add_constant(data_multi[['x1', 'x2']])  # Agrega el intercepto\n",
    "model_multi = sm.OLS(data_multi['y'], X_multi).fit()\n",
    "\n",
    "# Resumen del modelo\n",
    "print(model_multi.summary())"
   ]
  },
  {
   "cell_type": "code",
   "execution_count": 10,
   "id": "8c65aca0-2412-4cf8-96ed-64d362323c33",
   "metadata": {},
   "outputs": [
    {
     "name": "stdout",
     "output_type": "stream",
     "text": [
      "Matriz de correlación:\n",
      "          x1        x2\n",
      "x1  1.000000  0.999995\n",
      "x2  0.999995  1.000000\n"
     ]
    }
   ],
   "source": [
    "# Matriz de correlación\n",
    "corr_matrix = data_multi[['x1', 'x2']].corr()\n",
    "print(\"Matriz de correlación:\")\n",
    "print(corr_matrix)"
   ]
  },
  {
   "cell_type": "markdown",
   "id": "3cf12c03-e2a0-46f5-8f99-8537b71a7fb0",
   "metadata": {},
   "source": [
    "#### **Interpretación**:\n",
    "1. **Coeficientes no significativos**: \n",
    "   - Aunque las variables son predictoras importantes, la multicolinealidad reduce la precisión de las estimaciones de los coeficientes.\n",
    "2. **Matriz de correlación**: \n",
    "   - Si la correlación entre las variables independientes es cercana a ±1, existe multicolinealidad.\n",
    "\n",
    "---\n",
    "- Cumplir los supuestos del modelo de regresión lineal es fundamental para obtener resultados válidos y fiables.\n",
    "- Al utilizar Python y bibliotecas como `statsmodels`, es posible diagnosticar y analizar el cumplimiento de estos supuestos.\n",
    "- Cuando los supuestos no se cumplen, es necesario aplicar transformaciones, usar métodos robustos o modelos alternativos, como la regresión robusta o modelos no lineales. Estos modelos están fuera del alcance de este curso.\n"
   ]
  },
  {
   "cell_type": "code",
   "execution_count": 11,
   "id": "9d2b54cf-5ce0-443d-90e3-95fd4ebde16b",
   "metadata": {},
   "outputs": [
    {
     "data": {
      "text/html": [
       "<div>\n",
       "<style scoped>\n",
       "    .dataframe tbody tr th:only-of-type {\n",
       "        vertical-align: middle;\n",
       "    }\n",
       "\n",
       "    .dataframe tbody tr th {\n",
       "        vertical-align: top;\n",
       "    }\n",
       "\n",
       "    .dataframe thead th {\n",
       "        text-align: right;\n",
       "    }\n",
       "</style>\n",
       "<table border=\"1\" class=\"dataframe\">\n",
       "  <thead>\n",
       "    <tr style=\"text-align: right;\">\n",
       "      <th></th>\n",
       "      <th>X1</th>\n",
       "      <th>X2</th>\n",
       "      <th>X3</th>\n",
       "      <th>Y</th>\n",
       "    </tr>\n",
       "  </thead>\n",
       "  <tbody>\n",
       "    <tr>\n",
       "      <th>0</th>\n",
       "      <td>10</td>\n",
       "      <td>5</td>\n",
       "      <td>2</td>\n",
       "      <td>15</td>\n",
       "    </tr>\n",
       "    <tr>\n",
       "      <th>1</th>\n",
       "      <td>20</td>\n",
       "      <td>10</td>\n",
       "      <td>4</td>\n",
       "      <td>25</td>\n",
       "    </tr>\n",
       "    <tr>\n",
       "      <th>2</th>\n",
       "      <td>30</td>\n",
       "      <td>15</td>\n",
       "      <td>6</td>\n",
       "      <td>35</td>\n",
       "    </tr>\n",
       "    <tr>\n",
       "      <th>3</th>\n",
       "      <td>40</td>\n",
       "      <td>20</td>\n",
       "      <td>8</td>\n",
       "      <td>45</td>\n",
       "    </tr>\n",
       "    <tr>\n",
       "      <th>4</th>\n",
       "      <td>50</td>\n",
       "      <td>25</td>\n",
       "      <td>10</td>\n",
       "      <td>55</td>\n",
       "    </tr>\n",
       "  </tbody>\n",
       "</table>\n",
       "</div>"
      ],
      "text/plain": [
       "   X1  X2  X3   Y\n",
       "0  10   5   2  15\n",
       "1  20  10   4  25\n",
       "2  30  15   6  35\n",
       "3  40  20   8  45\n",
       "4  50  25  10  55"
      ]
     },
     "execution_count": 11,
     "metadata": {},
     "output_type": "execute_result"
    }
   ],
   "source": [
    "# DataFrame de ejemplo\n",
    "data = {\n",
    "    \"X1\": [10, 20, 30, 40, 50],\n",
    "    \"X2\": [5, 10, 15, 20, 25],\n",
    "    \"X3\": [2, 4, 6, 8, 10],\n",
    "    \"Y\": [15, 25, 35, 45, 55]\n",
    "}\n",
    "df = pd.DataFrame(data)\n",
    "# Definir variables predictoras (X) y la variable objetivo (Y)\n",
    "X = df[[\"X1\", \"X2\", \"X3\"]]  # Variables predictoras\n",
    "y = df[\"Y\"]  # Variable objetivo\n",
    "df"
   ]
  },
  {
   "cell_type": "code",
   "execution_count": 5,
   "id": "fff4bd3e-986a-439a-a597-8bbc629ef34c",
   "metadata": {},
   "outputs": [],
   "source": [
    "# Agregar término de sesgo para regresión lineal\n",
    "X_mul = sm.add_constant(X)\n",
    "# Ajustar modelo de regresión lineal con statsmodels\n",
    "mul_model = sm.OLS(y, X_mul).fit()\n"
   ]
  },
  {
   "cell_type": "code",
   "execution_count": null,
   "id": "34b81a1d-f0df-4d44-96cf-f488c8f79b9c",
   "metadata": {},
   "outputs": [],
   "source": []
  },
  {
   "cell_type": "markdown",
   "id": "8a2a9890-6f52-447e-b225-9cb3495c763f",
   "metadata": {},
   "source": [
    "## **Partición de los datos: entrenamiento y prueba**\n",
    "\n",
    "La partición **train-test** (entrenamiento-prueba) es el proceso de dividir tu conjunto de datos en dos subconjuntos separados: uno para entrenar el modelo y otro para evaluarlo. Es una de las prácticas más fundamentales en el aprendizaje automático para crear modelos fiables.\n",
    "\n",
    "-----\n",
    "\n",
    "### **¿Por Qué es Necesario Dividir los Datos? 🤔**\n",
    "\n",
    "Imagina que eres un estudiante preparándote para un examen final.\n",
    "\n",
    "  * El **conjunto de entrenamiento (train set)** es como los problemas de la tarea y los ejercicios que resuelves para estudiar. Usas este material para aprender los métodos y reconocer los patrones. Tu objetivo es aprender los conceptos subyacentes.\n",
    "\n",
    "  * El **conjunto de prueba (test set)** es el examen final. Contiene preguntas que nunca has visto antes. Tu verdadera comprensión y capacidad para aplicar lo que aprendiste se miden en este examen, no en tu habilidad para resolver de nuevo los problemas de la tarea.\n",
    "\n",
    "En machine learning, ocurre lo mismo. El objetivo principal de un modelo no es ser bueno prediciendo los datos que ya ha visto, sino **generalizar** su aprendizaje a datos nuevos y desconocidos.\n",
    "\n",
    "  * **Si entrenas y evalúas tu modelo con los mismos datos**, el modelo podría simplemente **\"memorizar\"** las respuestas. Esto se llama **sobreajuste (overfitting)**. Un modelo sobreajustado tendrá un rendimiento espectacular en los datos conocidos, pero fallará estrepitosamente cuando se enfrente a datos del mundo real.\n",
    "\n",
    "  * Al separar un **conjunto de prueba**, lo guardamos como una simulación del \"mundo real\". Es una evaluación honesta y sin sesgos de qué tan bien tu modelo se comportará en el futuro.\n",
    "\n",
    "-----\n",
    "\n",
    "### **¿Cómo Hacer la Partición con Scikit-Learn? 💻**\n",
    "\n",
    "El proceso es muy sencillo usando la librería **Scikit-Learn** y un DataFrame de **pandas**.\n",
    "\n",
    "Supongamos que tienes un DataFrame llamado `df` con varias columnas de características y una columna objetivo llamada `'target'`.\n",
    "\n",
    "#### **Paso 1: Separar las Características (X) y la Variable Objetivo (y)**\n",
    "\n",
    "Primero, debes decirle al modelo cuáles son tus variables predictoras y cuál es la variable que quieres predecir.\n"
   ]
  },
  {
   "cell_type": "code",
   "execution_count": 13,
   "id": "276bb259-990f-4531-8660-6d7ea9175ba5",
   "metadata": {},
   "outputs": [
    {
     "data": {
      "text/html": [
       "<div>\n",
       "<style scoped>\n",
       "    .dataframe tbody tr th:only-of-type {\n",
       "        vertical-align: middle;\n",
       "    }\n",
       "\n",
       "    .dataframe tbody tr th {\n",
       "        vertical-align: top;\n",
       "    }\n",
       "\n",
       "    .dataframe thead th {\n",
       "        text-align: right;\n",
       "    }\n",
       "</style>\n",
       "<table border=\"1\" class=\"dataframe\">\n",
       "  <thead>\n",
       "    <tr style=\"text-align: right;\">\n",
       "      <th></th>\n",
       "      <th>X1</th>\n",
       "      <th>X2</th>\n",
       "      <th>X3</th>\n",
       "      <th>target</th>\n",
       "    </tr>\n",
       "  </thead>\n",
       "  <tbody>\n",
       "    <tr>\n",
       "      <th>0</th>\n",
       "      <td>1.985719</td>\n",
       "      <td>-0.498958</td>\n",
       "      <td>-0.192817</td>\n",
       "      <td>-1.338713</td>\n",
       "    </tr>\n",
       "    <tr>\n",
       "      <th>1</th>\n",
       "      <td>-0.246586</td>\n",
       "      <td>-0.261497</td>\n",
       "      <td>0.982039</td>\n",
       "      <td>-1.546644</td>\n",
       "    </tr>\n",
       "    <tr>\n",
       "      <th>2</th>\n",
       "      <td>-0.574682</td>\n",
       "      <td>-0.764591</td>\n",
       "      <td>0.032206</td>\n",
       "      <td>-1.743973</td>\n",
       "    </tr>\n",
       "    <tr>\n",
       "      <th>3</th>\n",
       "      <td>-0.273900</td>\n",
       "      <td>1.199387</td>\n",
       "      <td>0.804375</td>\n",
       "      <td>1.172021</td>\n",
       "    </tr>\n",
       "    <tr>\n",
       "      <th>4</th>\n",
       "      <td>-0.336059</td>\n",
       "      <td>-2.078851</td>\n",
       "      <td>0.639946</td>\n",
       "      <td>1.241192</td>\n",
       "    </tr>\n",
       "  </tbody>\n",
       "</table>\n",
       "</div>"
      ],
      "text/plain": [
       "         X1        X2        X3    target\n",
       "0  1.985719 -0.498958 -0.192817 -1.338713\n",
       "1 -0.246586 -0.261497  0.982039 -1.546644\n",
       "2 -0.574682 -0.764591  0.032206 -1.743973\n",
       "3 -0.273900  1.199387  0.804375  1.172021\n",
       "4 -0.336059 -2.078851  0.639946  1.241192"
      ]
     },
     "execution_count": 13,
     "metadata": {},
     "output_type": "execute_result"
    }
   ],
   "source": [
    "# DataFrame de ejemplo con 100 datos aleatorios\n",
    "import numpy as np\n",
    "\n",
    "data = {\n",
    "    \"X1\": np.random.randn(100),\n",
    "    \"X2\":np.random.randn(100),\n",
    "    \"X3\": np.random.randn(100),\n",
    "    \"target\": np.random.randn(100)\n",
    "}\n",
    "df = pd.DataFrame(data)\n",
    "df.head()"
   ]
  },
  {
   "cell_type": "code",
   "execution_count": 14,
   "id": "7c38c1e9-0cb9-48ce-aade-88c1a2c44a3c",
   "metadata": {},
   "outputs": [],
   "source": [
    "# Asumiendo que 'df' es tu DataFrame de pandas\n",
    "# X contiene todas las columnas EXCEPTO la columna objetivo\n",
    "X = df.drop('target', axis=1) \n",
    "# y contiene ÚNICAMENTE la columna objetivo\n",
    "y = df['target'] "
   ]
  },
  {
   "cell_type": "markdown",
   "id": "16527cda-f142-4439-bf5e-8ed4d15f006d",
   "metadata": {},
   "source": [
    "#### **Paso 2: Importar la Función `train_test_split`**\n",
    "\n",
    "Esta función es la herramienta de Scikit-Learn diseñada específicamente para esta tarea.\n"
   ]
  },
  {
   "cell_type": "code",
   "execution_count": 46,
   "id": "471b9e37-9336-46a7-8660-f0bbdd04d09b",
   "metadata": {},
   "outputs": [],
   "source": [
    "from sklearn.model_selection import train_test_split"
   ]
  },
  {
   "cell_type": "markdown",
   "id": "4e8a6a07-8f8a-4330-ae09-24a4b8e371be",
   "metadata": {},
   "source": [
    "#### **Paso 3: Realizar la Partición**\n",
    "\n",
    "Ahora, simplemente llamas a la función y le pasas tus datos. La función te devolverá cuatro conjuntos de datos.\n"
   ]
  },
  {
   "cell_type": "code",
   "execution_count": 15,
   "id": "eecb7cde-25cb-43ee-9c23-d9a317d0a142",
   "metadata": {},
   "outputs": [],
   "source": [
    "# Realizar la partición\n",
    "X_train, X_test, y_train, y_test = train_test_split(\n",
    "    X, \n",
    "    y, \n",
    "    test_size=0.3, \n",
    "    random_state=42\n",
    ")"
   ]
  },
  {
   "cell_type": "markdown",
   "id": "5c099eb9-bddc-4737-b45b-4c72230c4bce",
   "metadata": {},
   "source": [
    " * **`X` e `y`**: Son los datos completos que preparaste en el primer paso.\n",
    "  * **`test_size=0.3`**: Este parámetro define qué proporción de tus datos se destinará al conjunto de prueba. En este caso, el 30% de los datos será para la prueba y el 70% restante para el entrenamiento. Un valor común suele estar entre 0.2 y 0.3.\n",
    "  * **`random_state=42`**: Este es un parámetro **crucial** para la **reproducibilidad**. La división de datos es un proceso aleatorio. Al fijar `random_state` a un número entero (cualquiera, 42 es una convención popular), te aseguras de que **siempre se genere la misma división aleatoria** cada vez que ejecutes el código. Esto es vital para poder comparar diferentes modelos o depurar tu trabajo de manera consistente.\n",
    "\n",
    "El resultado son cuatro variables que contienen tus datos listos para el modelado:\n",
    "\n",
    "  * **`X_train`**: Las características para entrenar el modelo.\n",
    "  * **`y_train`**: La variable objetivo correspondiente para el entrenamiento.\n",
    "  * **`X_test`**: Las características para evaluar el modelo (el \"examen final\").\n",
    "  * **`y_test`**: La variable objetivo correspondiente para la evaluación.\n",
    " "
   ]
  },
  {
   "cell_type": "markdown",
   "id": "4e2f3050-2a00-4d17-8aaf-03f6c8b24b68",
   "metadata": {},
   "source": [
    "# Caso de uso\n",
    "----"
   ]
  },
  {
   "cell_type": "code",
   "execution_count": 17,
   "id": "42df0370-73ea-4b4e-a545-cf7989e2e0e1",
   "metadata": {},
   "outputs": [
    {
     "data": {
      "text/html": [
       "<div>\n",
       "<style scoped>\n",
       "    .dataframe tbody tr th:only-of-type {\n",
       "        vertical-align: middle;\n",
       "    }\n",
       "\n",
       "    .dataframe tbody tr th {\n",
       "        vertical-align: top;\n",
       "    }\n",
       "\n",
       "    .dataframe thead th {\n",
       "        text-align: right;\n",
       "    }\n",
       "</style>\n",
       "<table border=\"1\" class=\"dataframe\">\n",
       "  <thead>\n",
       "    <tr style=\"text-align: right;\">\n",
       "      <th></th>\n",
       "      <th>sno</th>\n",
       "      <th>Temperature</th>\n",
       "      <th>Pressure</th>\n",
       "    </tr>\n",
       "  </thead>\n",
       "  <tbody>\n",
       "    <tr>\n",
       "      <th>0</th>\n",
       "      <td>1</td>\n",
       "      <td>0</td>\n",
       "      <td>0.0002</td>\n",
       "    </tr>\n",
       "    <tr>\n",
       "      <th>1</th>\n",
       "      <td>2</td>\n",
       "      <td>20</td>\n",
       "      <td>0.0012</td>\n",
       "    </tr>\n",
       "    <tr>\n",
       "      <th>2</th>\n",
       "      <td>3</td>\n",
       "      <td>40</td>\n",
       "      <td>0.0060</td>\n",
       "    </tr>\n",
       "    <tr>\n",
       "      <th>3</th>\n",
       "      <td>4</td>\n",
       "      <td>60</td>\n",
       "      <td>0.0300</td>\n",
       "    </tr>\n",
       "    <tr>\n",
       "      <th>4</th>\n",
       "      <td>5</td>\n",
       "      <td>80</td>\n",
       "      <td>0.0900</td>\n",
       "    </tr>\n",
       "    <tr>\n",
       "      <th>5</th>\n",
       "      <td>6</td>\n",
       "      <td>100</td>\n",
       "      <td>0.2700</td>\n",
       "    </tr>\n",
       "  </tbody>\n",
       "</table>\n",
       "</div>"
      ],
      "text/plain": [
       "   sno  Temperature  Pressure\n",
       "0    1            0    0.0002\n",
       "1    2           20    0.0012\n",
       "2    3           40    0.0060\n",
       "3    4           60    0.0300\n",
       "4    5           80    0.0900\n",
       "5    6          100    0.2700"
      ]
     },
     "execution_count": 17,
     "metadata": {},
     "output_type": "execute_result"
    }
   ],
   "source": [
    "datas = pd.read_csv('data/Temp_press_data.csv')\n",
    "datas"
   ]
  },
  {
   "cell_type": "code",
   "execution_count": 18,
   "id": "d61820db-b0d5-4ba1-a874-efaa5c75041e",
   "metadata": {},
   "outputs": [
    {
     "data": {
      "text/plain": [
       "<Axes: xlabel='Temperature', ylabel='Pressure'>"
      ]
     },
     "execution_count": 18,
     "metadata": {},
     "output_type": "execute_result"
    },
    {
     "data": {
      "image/png": "[encoded data removed]",
      "text/plain": [
       "<Figure size 640x480 with 1 Axes>"
      ]
     },
     "metadata": {},
     "output_type": "display_data"
    }
   ],
   "source": [
    "import matplotlib.pyplot as plt\n",
    "datas.plot(kind='scatter', x='Temperature', y='Pressure')\n"
   ]
  },
  {
   "cell_type": "code",
   "execution_count": 19,
   "id": "4d336ae6-dd94-4b35-b7d4-87c29b06086d",
   "metadata": {},
   "outputs": [],
   "source": [
    "# X contiene la columna TV\n",
    "X = datas['Temperature'] \n",
    "# y contiene ÚNICAMENTE la columna objetivo\n",
    "y = datas['Pressure'] \n"
   ]
  },
  {
   "cell_type": "code",
   "execution_count": 21,
   "id": "dc16ddb0-b364-404f-a2f0-04bbd712292f",
   "metadata": {},
   "outputs": [
    {
     "data": {
      "text/plain": [
       "const         -0.050867\n",
       "Temperature    0.002342\n",
       "dtype: float64"
      ]
     },
     "execution_count": 21,
     "metadata": {},
     "output_type": "execute_result"
    }
   ],
   "source": [
    "# Agregar término de sesgo para regresión lineal\n",
    "X_train = sm.add_constant(X)\n",
    "# Ajustar modelo de regresión lineal con statsmodels\n",
    "lin_model = sm.OLS(y, X_train).fit()\n",
    "lin_model.params\n"
   ]
  },
  {
   "cell_type": "code",
   "execution_count": 22,
   "id": "196678e9-452e-4325-80f7-a7b314e2defd",
   "metadata": {},
   "outputs": [
    {
     "name": "stdout",
     "output_type": "stream",
     "text": [
      "0.0028702675555555557\n"
     ]
    }
   ],
   "source": [
    "y_pred = lin_model.predict(X_train)\n",
    "mse_simple = mean_squared_error(y  , y_pred)\n",
    "print(mse_simple)"
   ]
  },
  {
   "cell_type": "code",
   "execution_count": 23,
   "id": "42b58461-2d77-4bf3-8521-932ca5535283",
   "metadata": {},
   "outputs": [
    {
     "data": {
      "text/plain": [
       "0   -0.050867\n",
       "1   -0.004027\n",
       "2    0.042813\n",
       "3    0.089653\n",
       "4    0.136493\n",
       "5    0.183333\n",
       "dtype: float64"
      ]
     },
     "execution_count": 23,
     "metadata": {},
     "output_type": "execute_result"
    }
   ],
   "source": [
    "y_pred"
   ]
  },
  {
   "cell_type": "code",
   "execution_count": 24,
   "id": "68c474ee-667d-48b3-b88d-09d3302efc9f",
   "metadata": {},
   "outputs": [
    {
     "data": {
      "text/plain": [
       "[<matplotlib.lines.Line2D at 0x2b62f8722e0>]"
      ]
     },
     "execution_count": 24,
     "metadata": {},
     "output_type": "execute_result"
    },
    {
     "data": {
      "image/png": "[encoded data removed]",
      "text/plain": [
       "<Figure size 640x480 with 1 Axes>"
      ]
     },
     "metadata": {},
     "output_type": "display_data"
    }
   ],
   "source": [
    "datas.plot(kind='scatter', x='Temperature', y='Pressure')\n",
    "\n",
    "plt.plot(X, y_pred, c='red', linewidth=2)"
   ]
  },
  {
   "cell_type": "code",
   "execution_count": 25,
   "id": "af3e535b-7da1-4516-aad9-0c47b3acc08c",
   "metadata": {},
   "outputs": [
    {
     "data": {
      "text/plain": [
       "const    0.015550\n",
       "T       -0.002639\n",
       "T_2      0.000050\n",
       "dtype: float64"
      ]
     },
     "execution_count": 25,
     "metadata": {},
     "output_type": "execute_result"
    }
   ],
   "source": [
    "# Definir variables predictoras (X) y la variable objetivo (Y)\n",
    "X = pd.DataFrame({\n",
    "    \"T\": datas[\"Temperature\"],\n",
    "    \"T_2\": datas[\"Temperature\"] ** 2\n",
    "   \n",
    "})\n",
    "# Agregar término de sesgo para regresión lineal\n",
    "X_train = sm.add_constant(X)\n",
    "# Ajustar modelo de regresión lineal con statsmodels\n",
    "lin_model = sm.OLS(y, X_train).fit()\n",
    "lin_model.params"
   ]
  },
  {
   "cell_type": "code",
   "execution_count": 26,
   "id": "e18889a5-79a0-4502-b05c-eb0967bc4682",
   "metadata": {},
   "outputs": [
    {
     "name": "stdout",
     "output_type": "stream",
     "text": [
      "0.0004000103333333332\n"
     ]
    }
   ],
   "source": [
    "y_pred = lin_model.predict(X_train)\n",
    "mse_pol = mean_squared_error(y  , y_pred)\n",
    "print(mse_pol)"
   ]
  },
  {
   "cell_type": "code",
   "execution_count": 28,
   "id": "fdaf9667-2e1b-41e6-b05d-c44334916281",
   "metadata": {},
   "outputs": [
    {
     "data": {
      "text/plain": [
       "[<matplotlib.lines.Line2D at 0x2b62f74d6a0>]"
      ]
     },
     "execution_count": 28,
     "metadata": {},
     "output_type": "execute_result"
    },
    {
     "data": {
      "image/png": "[encoded data removed]",
      "text/plain": [
       "<Figure size 640x480 with 1 Axes>"
      ]
     },
     "metadata": {},
     "output_type": "display_data"
    }
   ],
   "source": [
    "datas.plot(kind='scatter', x='Temperature', y='Pressure')\n",
    "\n",
    "plt.plot(X[\"T\"], y_pred, c='red', linewidth=2)"
   ]
  },
  {
   "cell_type": "markdown",
   "id": "8c86776f-d95e-4aee-bdaa-0f222032e68b",
   "metadata": {},
   "source": [
    "# Caso de uso\n",
    "----\n",
    "📖 **Caso 1: Análisis del impacto de la inversión publicitaria en TV, radio y periódicos sobre las ventas de un producto en diferentes mercados.**\n",
    "\n",
    "📂 **Datos:** : `Advertising.csv`\n",
    "\n",
    "Estos datos expresan las ventas en función del tipo de publicidad y el monto del gasto.  \n",
    "El conjunto de datos contiene 200 filas con 3 características $[TV, Radio, Periódico]$ y una variable objetivo $[Ventas]$.\n",
    "\n",
    "### **Variables:**\n",
    "\n",
    "- **TV:** dinero gastado en publicidad en televisión para un solo producto en un mercado determinado (en miles de dólares).  \n",
    "- **Radio:** dinero gastado en publicidad en radio.  \n",
    "- **Periódico:** dinero gastado en publicidad en periódicos.  \n",
    "\n",
    "### **¿Cuál es la variable de respuesta?**  \n",
    "\n",
    "- **Ventas:** ventas de un solo producto en un mercado determinado (en miles de unidades).  \n",
    "\n",
    "El conjunto de datos contiene **200 observaciones**, lo que significa que hay **200 mercados** (puntos de venta) en el estudio.  \n",
    "\n",
    "---\n",
    "\n",
    "### **Preguntas sobre los datos de publicidad**  \n",
    "\n",
    "Imagina que trabajas para la empresa que fabrica y comercializa este producto. La empresa podría preguntarte lo siguiente:  \n",
    "\n",
    "👉 **Con base en estos datos, ¿cómo deberíamos invertir nuestro presupuesto de publicidad en el futuro?**  \n",
    "\n",
    "Esta pregunta general puede llevarnos a preguntas más específicas:  \n",
    "\n",
    "1. ¿Existe una relación entre la publicidad y las ventas?  \n",
    "2. ¿Qué tan fuerte es esa relación?  \n",
    "3. ¿Qué tipos de publicidad contribuyen más a las ventas?  \n",
    "4. ¿Cuál es el efecto de cada tipo de publicidad en las ventas?  \n",
    "5. Dado un gasto publicitario en un mercado específico, ¿se pueden predecir las ventas?  \n",
    "\n",
    "¡Exploraremos estas preguntas a continuación! 🚀"
   ]
  },
  {
   "cell_type": "code",
   "execution_count": 29,
   "id": "6d005926-95f2-4c48-b6ae-3c84a858cd5d",
   "metadata": {},
   "outputs": [
    {
     "data": {
      "text/html": [
       "<div>\n",
       "<style scoped>\n",
       "    .dataframe tbody tr th:only-of-type {\n",
       "        vertical-align: middle;\n",
       "    }\n",
       "\n",
       "    .dataframe tbody tr th {\n",
       "        vertical-align: top;\n",
       "    }\n",
       "\n",
       "    .dataframe thead th {\n",
       "        text-align: right;\n",
       "    }\n",
       "</style>\n",
       "<table border=\"1\" class=\"dataframe\">\n",
       "  <thead>\n",
       "    <tr style=\"text-align: right;\">\n",
       "      <th></th>\n",
       "      <th>TV</th>\n",
       "      <th>Radio</th>\n",
       "      <th>Newspaper</th>\n",
       "      <th>Sales</th>\n",
       "    </tr>\n",
       "  </thead>\n",
       "  <tbody>\n",
       "    <tr>\n",
       "      <th>1</th>\n",
       "      <td>230.1</td>\n",
       "      <td>37.8</td>\n",
       "      <td>69.2</td>\n",
       "      <td>22.1</td>\n",
       "    </tr>\n",
       "    <tr>\n",
       "      <th>2</th>\n",
       "      <td>44.5</td>\n",
       "      <td>39.3</td>\n",
       "      <td>45.1</td>\n",
       "      <td>10.4</td>\n",
       "    </tr>\n",
       "    <tr>\n",
       "      <th>3</th>\n",
       "      <td>17.2</td>\n",
       "      <td>45.9</td>\n",
       "      <td>69.3</td>\n",
       "      <td>9.3</td>\n",
       "    </tr>\n",
       "    <tr>\n",
       "      <th>4</th>\n",
       "      <td>151.5</td>\n",
       "      <td>41.3</td>\n",
       "      <td>58.5</td>\n",
       "      <td>18.5</td>\n",
       "    </tr>\n",
       "    <tr>\n",
       "      <th>5</th>\n",
       "      <td>180.8</td>\n",
       "      <td>10.8</td>\n",
       "      <td>58.4</td>\n",
       "      <td>12.9</td>\n",
       "    </tr>\n",
       "  </tbody>\n",
       "</table>\n",
       "</div>"
      ],
      "text/plain": [
       "      TV  Radio  Newspaper  Sales\n",
       "1  230.1   37.8       69.2   22.1\n",
       "2   44.5   39.3       45.1   10.4\n",
       "3   17.2   45.9       69.3    9.3\n",
       "4  151.5   41.3       58.5   18.5\n",
       "5  180.8   10.8       58.4   12.9"
      ]
     },
     "execution_count": 29,
     "metadata": {},
     "output_type": "execute_result"
    }
   ],
   "source": [
    "df = pd.read_csv('data/Advertising.csv', index_col=0)\n",
    "df.head()"
   ]
  },
  {
   "cell_type": "code",
   "execution_count": 31,
   "id": "5ab145ce-07a0-4a26-88a4-08201417f369",
   "metadata": {},
   "outputs": [
    {
     "data": {
      "text/plain": [
       "<seaborn.axisgrid.PairGrid at 0x2b62f7b7a30>"
      ]
     },
     "execution_count": 31,
     "metadata": {},
     "output_type": "execute_result"
    },
    {
     "data": {
      "image/png": "[encoded data removed]",
      "text/plain": [
       "<Figure size 600x600 with 20 Axes>"
      ]
     },
     "metadata": {},
     "output_type": "display_data"
    }
   ],
   "source": [
    "sns.pairplot(df, height=1.5)\n"
   ]
  },
  {
   "cell_type": "code",
   "execution_count": 32,
   "id": "40f6c5f8-c2e8-4168-a399-db2784a33653",
   "metadata": {},
   "outputs": [
    {
     "data": {
      "text/plain": [
       "<Axes: >"
      ]
     },
     "execution_count": 32,
     "metadata": {},
     "output_type": "execute_result"
    },
    {
     "data": {
      "image/png": "[encoded data removed]",
      "text/plain": [
       "<Figure size 640x480 with 2 Axes>"
      ]
     },
     "metadata": {},
     "output_type": "display_data"
    }
   ],
   "source": [
    "# Calculate correlations\n",
    "corr = df.corr()\n",
    " # Heatmap\n",
    "sns.heatmap(corr,  annot=True, fmt=\".2f\")"
   ]
  },
  {
   "cell_type": "code",
   "execution_count": 33,
   "id": "dfe9b49e-68b1-410f-9cd6-8b0d33256484",
   "metadata": {},
   "outputs": [],
   "source": [
    "# X contiene la columna TV\n",
    "X = df['TV'] \n",
    "# y contiene ÚNICAMENTE la columna objetivo\n",
    "y = df['Sales'] \n",
    "# Realizar la partición\n",
    "X_train, X_test, y_train, y_test = train_test_split(\n",
    "    X, \n",
    "    y, \n",
    "    test_size=0.3, \n",
    "    random_state=1234\n",
    ")"
   ]
  },
  {
   "cell_type": "code",
   "execution_count": 34,
   "id": "c1af73eb-c4fb-423b-a1f8-7ac3a1d7146a",
   "metadata": {},
   "outputs": [
    {
     "data": {
      "text/plain": [
       "const    7.161893\n",
       "TV       0.047689\n",
       "dtype: float64"
      ]
     },
     "execution_count": 34,
     "metadata": {},
     "output_type": "execute_result"
    }
   ],
   "source": [
    "# Agregar término de sesgo para regresión lineal\n",
    "X_train_1 = sm.add_constant(X_train)\n",
    "# Ajustar modelo de regresión lineal con statsmodels\n",
    "lin_model = sm.OLS(y_train, X_train_1).fit()\n",
    "lin_model.params\n"
   ]
  },
  {
   "cell_type": "markdown",
   "id": "d8a6dbbe-c2d8-441a-9816-20a20e67690f",
   "metadata": {},
   "source": [
    "### **Interpretación de los Coeficientes del Modelo**  \n",
    "\n",
    "¿Cómo interpretamos el coeficiente de **TV**?  \n",
    "\n",
    "- Un aumento de **1 unidad** en el gasto en publicidad en TV está asociado con un aumento de **0.047689 unidades** en las ventas.  \n",
    "- De manera más clara: **gastar $1,000 adicionales en anuncios de TV** está asociado con un aumento en las ventas de **47.689 unidades** del producto.  \n",
    "\n",
    "📌 **Nota:** Si un aumento en el gasto en TV estuviera asociado con una disminución en las ventas, el coeficiente sería negativo.  \n"
   ]
  },
  {
   "cell_type": "code",
   "execution_count": 35,
   "id": "8e0d56fb-d0d9-41e8-be9e-6b12311f435d",
   "metadata": {},
   "outputs": [
    {
     "data": {
      "text/plain": [
       "[<matplotlib.lines.Line2D at 0x2b62f8b6460>]"
      ]
     },
     "execution_count": 35,
     "metadata": {},
     "output_type": "execute_result"
    },
    {
     "data": {
      "image/png": "[encoded data removed]",
      "text/plain": [
       "<Figure size 640x480 with 1 Axes>"
      ]
     },
     "metadata": {},
     "output_type": "display_data"
    }
   ],
   "source": [
    "import matplotlib.pyplot as plt\n",
    "df.plot(kind='scatter', x='TV', y='Sales')\n",
    "\n",
    "y_hat = lin_model.predict(X_train_1)\n",
    "# \n",
    "plt.plot(X_train, y_hat, c='red', linewidth=2)"
   ]
  },
  {
   "cell_type": "code",
   "execution_count": 38,
   "id": "dfaf91d2-fb98-4789-9432-dd127301dc20",
   "metadata": {},
   "outputs": [
    {
     "name": "stdout",
     "output_type": "stream",
     "text": [
      "9.941261511364454\n",
      "Error cuadrático medio (MSE): 9.941261511364454\n"
     ]
    }
   ],
   "source": [
    "# Agregar término de sesgo para regresión lineal\n",
    "X_test_1 = sm.add_constant(X_test)\n",
    "y_hat = lin_model.predict(X_test_1)\n",
    "mse_simple = mean_squared_error(y_test  , y_hat)\n",
    "print(mse_simple)\n",
    "print(\"Error cuadrático medio (MSE):\", mse_simple)\n"
   ]
  },
  {
   "cell_type": "code",
   "execution_count": 42,
   "id": "b8af7085-f752-4a0d-820b-bd911feeb0ff",
   "metadata": {},
   "outputs": [
    {
     "data": {
      "text/html": [
       "<div>\n",
       "<style scoped>\n",
       "    .dataframe tbody tr th:only-of-type {\n",
       "        vertical-align: middle;\n",
       "    }\n",
       "\n",
       "    .dataframe tbody tr th {\n",
       "        vertical-align: top;\n",
       "    }\n",
       "\n",
       "    .dataframe thead th {\n",
       "        text-align: right;\n",
       "    }\n",
       "</style>\n",
       "<table border=\"1\" class=\"dataframe\">\n",
       "  <thead>\n",
       "    <tr style=\"text-align: right;\">\n",
       "      <th></th>\n",
       "      <th>const</th>\n",
       "      <th>TV</th>\n",
       "    </tr>\n",
       "  </thead>\n",
       "  <tbody>\n",
       "    <tr>\n",
       "      <th>198</th>\n",
       "      <td>1.0</td>\n",
       "      <td>177.0</td>\n",
       "    </tr>\n",
       "    <tr>\n",
       "      <th>158</th>\n",
       "      <td>1.0</td>\n",
       "      <td>149.8</td>\n",
       "    </tr>\n",
       "    <tr>\n",
       "      <th>32</th>\n",
       "      <td>1.0</td>\n",
       "      <td>112.9</td>\n",
       "    </tr>\n",
       "    <tr>\n",
       "      <th>49</th>\n",
       "      <td>1.0</td>\n",
       "      <td>227.2</td>\n",
       "    </tr>\n",
       "    <tr>\n",
       "      <th>64</th>\n",
       "      <td>1.0</td>\n",
       "      <td>102.7</td>\n",
       "    </tr>\n",
       "    <tr>\n",
       "      <th>60</th>\n",
       "      <td>1.0</td>\n",
       "      <td>210.7</td>\n",
       "    </tr>\n",
       "    <tr>\n",
       "      <th>6</th>\n",
       "      <td>1.0</td>\n",
       "      <td>8.7</td>\n",
       "    </tr>\n",
       "    <tr>\n",
       "      <th>8</th>\n",
       "      <td>1.0</td>\n",
       "      <td>120.2</td>\n",
       "    </tr>\n",
       "    <tr>\n",
       "      <th>118</th>\n",
       "      <td>1.0</td>\n",
       "      <td>76.4</td>\n",
       "    </tr>\n",
       "    <tr>\n",
       "      <th>109</th>\n",
       "      <td>1.0</td>\n",
       "      <td>13.1</td>\n",
       "    </tr>\n",
       "    <tr>\n",
       "      <th>142</th>\n",
       "      <td>1.0</td>\n",
       "      <td>193.7</td>\n",
       "    </tr>\n",
       "    <tr>\n",
       "      <th>55</th>\n",
       "      <td>1.0</td>\n",
       "      <td>262.7</td>\n",
       "    </tr>\n",
       "    <tr>\n",
       "      <th>103</th>\n",
       "      <td>1.0</td>\n",
       "      <td>280.2</td>\n",
       "    </tr>\n",
       "    <tr>\n",
       "      <th>132</th>\n",
       "      <td>1.0</td>\n",
       "      <td>265.2</td>\n",
       "    </tr>\n",
       "    <tr>\n",
       "      <th>173</th>\n",
       "      <td>1.0</td>\n",
       "      <td>19.6</td>\n",
       "    </tr>\n",
       "    <tr>\n",
       "      <th>156</th>\n",
       "      <td>1.0</td>\n",
       "      <td>4.1</td>\n",
       "    </tr>\n",
       "    <tr>\n",
       "      <th>127</th>\n",
       "      <td>1.0</td>\n",
       "      <td>7.8</td>\n",
       "    </tr>\n",
       "    <tr>\n",
       "      <th>30</th>\n",
       "      <td>1.0</td>\n",
       "      <td>70.6</td>\n",
       "    </tr>\n",
       "    <tr>\n",
       "      <th>75</th>\n",
       "      <td>1.0</td>\n",
       "      <td>213.4</td>\n",
       "    </tr>\n",
       "    <tr>\n",
       "      <th>66</th>\n",
       "      <td>1.0</td>\n",
       "      <td>69.0</td>\n",
       "    </tr>\n",
       "    <tr>\n",
       "      <th>138</th>\n",
       "      <td>1.0</td>\n",
       "      <td>273.7</td>\n",
       "    </tr>\n",
       "    <tr>\n",
       "      <th>102</th>\n",
       "      <td>1.0</td>\n",
       "      <td>296.4</td>\n",
       "    </tr>\n",
       "    <tr>\n",
       "      <th>190</th>\n",
       "      <td>1.0</td>\n",
       "      <td>18.7</td>\n",
       "    </tr>\n",
       "    <tr>\n",
       "      <th>52</th>\n",
       "      <td>1.0</td>\n",
       "      <td>100.4</td>\n",
       "    </tr>\n",
       "    <tr>\n",
       "      <th>93</th>\n",
       "      <td>1.0</td>\n",
       "      <td>217.7</td>\n",
       "    </tr>\n",
       "    <tr>\n",
       "      <th>112</th>\n",
       "      <td>1.0</td>\n",
       "      <td>241.7</td>\n",
       "    </tr>\n",
       "    <tr>\n",
       "      <th>10</th>\n",
       "      <td>1.0</td>\n",
       "      <td>199.8</td>\n",
       "    </tr>\n",
       "    <tr>\n",
       "      <th>137</th>\n",
       "      <td>1.0</td>\n",
       "      <td>25.6</td>\n",
       "    </tr>\n",
       "    <tr>\n",
       "      <th>126</th>\n",
       "      <td>1.0</td>\n",
       "      <td>87.2</td>\n",
       "    </tr>\n",
       "    <tr>\n",
       "      <th>41</th>\n",
       "      <td>1.0</td>\n",
       "      <td>202.5</td>\n",
       "    </tr>\n",
       "    <tr>\n",
       "      <th>7</th>\n",
       "      <td>1.0</td>\n",
       "      <td>57.5</td>\n",
       "    </tr>\n",
       "    <tr>\n",
       "      <th>194</th>\n",
       "      <td>1.0</td>\n",
       "      <td>166.8</td>\n",
       "    </tr>\n",
       "    <tr>\n",
       "      <th>151</th>\n",
       "      <td>1.0</td>\n",
       "      <td>280.7</td>\n",
       "    </tr>\n",
       "    <tr>\n",
       "      <th>146</th>\n",
       "      <td>1.0</td>\n",
       "      <td>140.3</td>\n",
       "    </tr>\n",
       "    <tr>\n",
       "      <th>124</th>\n",
       "      <td>1.0</td>\n",
       "      <td>123.1</td>\n",
       "    </tr>\n",
       "    <tr>\n",
       "      <th>163</th>\n",
       "      <td>1.0</td>\n",
       "      <td>188.4</td>\n",
       "    </tr>\n",
       "    <tr>\n",
       "      <th>94</th>\n",
       "      <td>1.0</td>\n",
       "      <td>250.9</td>\n",
       "    </tr>\n",
       "    <tr>\n",
       "      <th>184</th>\n",
       "      <td>1.0</td>\n",
       "      <td>287.6</td>\n",
       "    </tr>\n",
       "    <tr>\n",
       "      <th>171</th>\n",
       "      <td>1.0</td>\n",
       "      <td>50.0</td>\n",
       "    </tr>\n",
       "    <tr>\n",
       "      <th>59</th>\n",
       "      <td>1.0</td>\n",
       "      <td>210.8</td>\n",
       "    </tr>\n",
       "    <tr>\n",
       "      <th>147</th>\n",
       "      <td>1.0</td>\n",
       "      <td>240.1</td>\n",
       "    </tr>\n",
       "    <tr>\n",
       "      <th>33</th>\n",
       "      <td>1.0</td>\n",
       "      <td>97.2</td>\n",
       "    </tr>\n",
       "    <tr>\n",
       "      <th>44</th>\n",
       "      <td>1.0</td>\n",
       "      <td>206.9</td>\n",
       "    </tr>\n",
       "    <tr>\n",
       "      <th>100</th>\n",
       "      <td>1.0</td>\n",
       "      <td>135.2</td>\n",
       "    </tr>\n",
       "    <tr>\n",
       "      <th>89</th>\n",
       "      <td>1.0</td>\n",
       "      <td>88.3</td>\n",
       "    </tr>\n",
       "    <tr>\n",
       "      <th>40</th>\n",
       "      <td>1.0</td>\n",
       "      <td>228.0</td>\n",
       "    </tr>\n",
       "    <tr>\n",
       "      <th>26</th>\n",
       "      <td>1.0</td>\n",
       "      <td>262.9</td>\n",
       "    </tr>\n",
       "    <tr>\n",
       "      <th>135</th>\n",
       "      <td>1.0</td>\n",
       "      <td>36.9</td>\n",
       "    </tr>\n",
       "    <tr>\n",
       "      <th>174</th>\n",
       "      <td>1.0</td>\n",
       "      <td>168.4</td>\n",
       "    </tr>\n",
       "    <tr>\n",
       "      <th>101</th>\n",
       "      <td>1.0</td>\n",
       "      <td>222.4</td>\n",
       "    </tr>\n",
       "    <tr>\n",
       "      <th>18</th>\n",
       "      <td>1.0</td>\n",
       "      <td>281.4</td>\n",
       "    </tr>\n",
       "    <tr>\n",
       "      <th>12</th>\n",
       "      <td>1.0</td>\n",
       "      <td>214.7</td>\n",
       "    </tr>\n",
       "    <tr>\n",
       "      <th>192</th>\n",
       "      <td>1.0</td>\n",
       "      <td>75.5</td>\n",
       "    </tr>\n",
       "    <tr>\n",
       "      <th>133</th>\n",
       "      <td>1.0</td>\n",
       "      <td>8.4</td>\n",
       "    </tr>\n",
       "    <tr>\n",
       "      <th>96</th>\n",
       "      <td>1.0</td>\n",
       "      <td>163.3</td>\n",
       "    </tr>\n",
       "    <tr>\n",
       "      <th>78</th>\n",
       "      <td>1.0</td>\n",
       "      <td>120.5</td>\n",
       "    </tr>\n",
       "    <tr>\n",
       "      <th>161</th>\n",
       "      <td>1.0</td>\n",
       "      <td>172.5</td>\n",
       "    </tr>\n",
       "    <tr>\n",
       "      <th>105</th>\n",
       "      <td>1.0</td>\n",
       "      <td>238.2</td>\n",
       "    </tr>\n",
       "    <tr>\n",
       "      <th>188</th>\n",
       "      <td>1.0</td>\n",
       "      <td>191.1</td>\n",
       "    </tr>\n",
       "    <tr>\n",
       "      <th>28</th>\n",
       "      <td>1.0</td>\n",
       "      <td>240.1</td>\n",
       "    </tr>\n",
       "  </tbody>\n",
       "</table>\n",
       "</div>"
      ],
      "text/plain": [
       "     const     TV\n",
       "198    1.0  177.0\n",
       "158    1.0  149.8\n",
       "32     1.0  112.9\n",
       "49     1.0  227.2\n",
       "64     1.0  102.7\n",
       "60     1.0  210.7\n",
       "6      1.0    8.7\n",
       "8      1.0  120.2\n",
       "118    1.0   76.4\n",
       "109    1.0   13.1\n",
       "142    1.0  193.7\n",
       "55     1.0  262.7\n",
       "103    1.0  280.2\n",
       "132    1.0  265.2\n",
       "173    1.0   19.6\n",
       "156    1.0    4.1\n",
       "127    1.0    7.8\n",
       "30     1.0   70.6\n",
       "75     1.0  213.4\n",
       "66     1.0   69.0\n",
       "138    1.0  273.7\n",
       "102    1.0  296.4\n",
       "190    1.0   18.7\n",
       "52     1.0  100.4\n",
       "93     1.0  217.7\n",
       "112    1.0  241.7\n",
       "10     1.0  199.8\n",
       "137    1.0   25.6\n",
       "126    1.0   87.2\n",
       "41     1.0  202.5\n",
       "7      1.0   57.5\n",
       "194    1.0  166.8\n",
       "151    1.0  280.7\n",
       "146    1.0  140.3\n",
       "124    1.0  123.1\n",
       "163    1.0  188.4\n",
       "94     1.0  250.9\n",
       "184    1.0  287.6\n",
       "171    1.0   50.0\n",
       "59     1.0  210.8\n",
       "147    1.0  240.1\n",
       "33     1.0   97.2\n",
       "44     1.0  206.9\n",
       "100    1.0  135.2\n",
       "89     1.0   88.3\n",
       "40     1.0  228.0\n",
       "26     1.0  262.9\n",
       "135    1.0   36.9\n",
       "174    1.0  168.4\n",
       "101    1.0  222.4\n",
       "18     1.0  281.4\n",
       "12     1.0  214.7\n",
       "192    1.0   75.5\n",
       "133    1.0    8.4\n",
       "96     1.0  163.3\n",
       "78     1.0  120.5\n",
       "161    1.0  172.5\n",
       "105    1.0  238.2\n",
       "188    1.0  191.1\n",
       "28     1.0  240.1"
      ]
     },
     "execution_count": 42,
     "metadata": {},
     "output_type": "execute_result"
    }
   ],
   "source": [
    "X_test_1"
   ]
  },
  {
   "cell_type": "markdown",
   "id": "13c750bb-1503-4c69-a5f4-58ec957b45a5",
   "metadata": {},
   "source": [
    "\n",
    "📊 **Ejemplo de predicción:**  \n",
    "\n",
    "Supongamos que en un nuevo mercado, el gasto en publicidad en TV es de **$50,000**. ¿Cuál sería la predicción de ventas para ese mercado?"
   ]
  },
  {
   "cell_type": "code",
   "execution_count": 43,
   "id": "e226677b-4e25-49ca-805f-67925cd0f7c1",
   "metadata": {},
   "outputs": [
    {
     "data": {
      "text/html": [
       "<div>\n",
       "<style scoped>\n",
       "    .dataframe tbody tr th:only-of-type {\n",
       "        vertical-align: middle;\n",
       "    }\n",
       "\n",
       "    .dataframe tbody tr th {\n",
       "        vertical-align: top;\n",
       "    }\n",
       "\n",
       "    .dataframe thead th {\n",
       "        text-align: right;\n",
       "    }\n",
       "</style>\n",
       "<table border=\"1\" class=\"dataframe\">\n",
       "  <thead>\n",
       "    <tr style=\"text-align: right;\">\n",
       "      <th></th>\n",
       "      <th>const</th>\n",
       "      <th>TV</th>\n",
       "    </tr>\n",
       "  </thead>\n",
       "  <tbody>\n",
       "    <tr>\n",
       "      <th>0</th>\n",
       "      <td>1</td>\n",
       "      <td>50</td>\n",
       "    </tr>\n",
       "  </tbody>\n",
       "</table>\n",
       "</div>"
      ],
      "text/plain": [
       "   const  TV\n",
       "0      1  50"
      ]
     },
     "execution_count": 43,
     "metadata": {},
     "output_type": "execute_result"
    }
   ],
   "source": [
    "X_new = pd.DataFrame({'const':[1],'TV': [50],})\n",
    "X_new.head()"
   ]
  },
  {
   "cell_type": "code",
   "execution_count": 44,
   "id": "15d0b458-9fe8-4591-8bd0-70cbb942fbde",
   "metadata": {},
   "outputs": [
    {
     "data": {
      "text/plain": [
       "0    9.546336\n",
       "dtype: float64"
      ]
     },
     "execution_count": 44,
     "metadata": {},
     "output_type": "execute_result"
    }
   ],
   "source": [
    "lin_model.predict(X_new)"
   ]
  },
  {
   "cell_type": "markdown",
   "id": "09b3289f-8d7f-4b24-b350-f4d126861088",
   "metadata": {},
   "source": [
    "## 👉 **Incorporando al modelo las otras dos variables**  "
   ]
  },
  {
   "cell_type": "code",
   "execution_count": 45,
   "id": "63897be1-6d54-4f09-ad25-4c44b236b0d0",
   "metadata": {},
   "outputs": [],
   "source": [
    "# Definir variables predictoras (X) y la variable objetivo (Y)\n",
    "X = df[[\"TV\",\"Radio\", \"Newspaper\"]]  # Variables predictoras\n",
    "y = df[\"Sales\"]  # Variable objetivo\n",
    "### Splitting Dataset ###\n",
    "X_train, X_test, y_train, y_test = train_test_split( X, y , test_size = 0.3, random_state = 1234)\n",
    "# Agregar término de sesgo para regresión lineal\n",
    "X_train = sm.add_constant(X_train)\n",
    "X_test = sm.add_constant(X_test)"
   ]
  },
  {
   "cell_type": "code",
   "execution_count": 46,
   "id": "0d76c45c-980c-425a-aeec-580a18e78d95",
   "metadata": {},
   "outputs": [
    {
     "data": {
      "text/plain": [
       "const        2.938893\n",
       "TV           0.046052\n",
       "Radio        0.185405\n",
       "Newspaper    0.001555\n",
       "dtype: float64"
      ]
     },
     "execution_count": 46,
     "metadata": {},
     "output_type": "execute_result"
    }
   ],
   "source": [
    "\n",
    "# Ajustar modelo de regresión lineal con statsmodels\n",
    "mul_model = sm.OLS(y_train, X_train).fit()\n",
    "#hacer predicciones\n",
    "y_pred = mul_model.predict(X_test)\n",
    "mul_model.params"
   ]
  },
  {
   "cell_type": "code",
   "execution_count": 48,
   "id": "43923600-7d2c-43c3-8241-9e5e993fd419",
   "metadata": {},
   "outputs": [
    {
     "name": "stdout",
     "output_type": "stream",
     "text": [
      "Mean Squared Error tv radio periodico: 2.6697792772530176\n"
     ]
    }
   ],
   "source": [
    "mse_tv_radio_perio = mean_squared_error(y_test, y_pred)\n",
    "print('Mean Squared Error tv radio periodico:', mse_tv_radio_perio)"
   ]
  },
  {
   "cell_type": "code",
   "execution_count": 348,
   "id": "fe92ad1e-d371-49d6-af01-925c3a66420f",
   "metadata": {},
   "outputs": [
    {
     "name": "stdout",
     "output_type": "stream",
     "text": [
      "Mean Squared Error tv radio: 2.6595342544482587\n"
     ]
    }
   ],
   "source": [
    "mse_tv_radio = mean_squared_error(y_test, y_pred)\n",
    "print('Mean Squared Error tv radio:', mse_tv_radio)"
   ]
  },
  {
   "cell_type": "code",
   "execution_count": 351,
   "id": "d2df5e9b-8933-4315-b11b-a4e5fd4bb2d4",
   "metadata": {},
   "outputs": [
    {
     "name": "stdout",
     "output_type": "stream",
     "text": [
      "Mean Squared Error simple (only tv): 9.941261511364454\n"
     ]
    }
   ],
   "source": [
    "mse_simple = mean_squared_error(y_test, y_pred)\n",
    "print('Mean Squared Error simple (only tv):', mse_simple)"
   ]
  },
  {
   "cell_type": "markdown",
   "id": "63b96ff3-46f9-4e63-a0dc-94ab766782ee",
   "metadata": {},
   "source": [
    "### Estimar la relevancia de los coeficientes  \n",
    "\n",
    "Ahora que tienes los coeficientes, ¿cómo puedes determinar si son relevantes para predecir tu variable objetivo?  \n",
    "\n",
    "La mejor manera es calcular el **p-valor**. El p-valor se utiliza para cuantificar la **significancia estadística**; permite determinar si se debe rechazar o no la hipótesis nula.  \n",
    "\n",
    "### ¿Qué es la hipótesis nula?  \n",
    "\n",
    "En cualquier tarea de modelado, la hipótesis de trabajo supone que existe una correlación entre las variables independientes y la variable objetivo. La **hipótesis nula**, en cambio, establece lo contrario: **no hay correlación** entre las variables independientes y la variable objetivo.  \n",
    "\n",
    "Por lo tanto, calcular el p-valor para cada coeficiente permite determinar si la variable es estadísticamente significativa para predecir el objetivo. Como regla general, si el **p-valor es menor a 0.05**, existe una relación fuerte entre la variable y la variable objetivo."
   ]
  },
  {
   "cell_type": "code",
   "execution_count": 50,
   "id": "0e186aca-525a-4922-8442-fb28c58d850d",
   "metadata": {},
   "outputs": [
    {
     "data": {
      "text/html": [
       "<table class=\"simpletable\">\n",
       "<caption>OLS Regression Results</caption>\n",
       "<tr>\n",
       "  <th>Dep. Variable:</th>          <td>Sales</td>      <th>  R-squared:         </th> <td>   0.895</td>\n",
       "</tr>\n",
       "<tr>\n",
       "  <th>Model:</th>                   <td>OLS</td>       <th>  Adj. R-squared:    </th> <td>   0.892</td>\n",
       "</tr>\n",
       "<tr>\n",
       "  <th>Method:</th>             <td>Least Squares</td>  <th>  F-statistic:       </th> <td>   384.7</td>\n",
       "</tr>\n",
       "<tr>\n",
       "  <th>Date:</th>             <td>Tue, 12 Aug 2025</td> <th>  Prob (F-statistic):</th> <td>3.19e-66</td>\n",
       "</tr>\n",
       "<tr>\n",
       "  <th>Time:</th>                 <td>16:49:32</td>     <th>  Log-Likelihood:    </th> <td> -271.78</td>\n",
       "</tr>\n",
       "<tr>\n",
       "  <th>No. Observations:</th>      <td>   140</td>      <th>  AIC:               </th> <td>   551.6</td>\n",
       "</tr>\n",
       "<tr>\n",
       "  <th>Df Residuals:</th>          <td>   136</td>      <th>  BIC:               </th> <td>   563.3</td>\n",
       "</tr>\n",
       "<tr>\n",
       "  <th>Df Model:</th>              <td>     3</td>      <th>                     </th>     <td> </td>   \n",
       "</tr>\n",
       "<tr>\n",
       "  <th>Covariance Type:</th>      <td>nonrobust</td>    <th>                     </th>     <td> </td>   \n",
       "</tr>\n",
       "</table>\n",
       "<table class=\"simpletable\">\n",
       "<tr>\n",
       "      <td></td>         <th>coef</th>     <th>std err</th>      <th>t</th>      <th>P>|t|</th>  <th>[0.025</th>    <th>0.975]</th>  \n",
       "</tr>\n",
       "<tr>\n",
       "  <th>const</th>     <td>    2.9389</td> <td>    0.389</td> <td>    7.557</td> <td> 0.000</td> <td>    2.170</td> <td>    3.708</td>\n",
       "</tr>\n",
       "<tr>\n",
       "  <th>TV</th>        <td>    0.0461</td> <td>    0.002</td> <td>   26.799</td> <td> 0.000</td> <td>    0.043</td> <td>    0.049</td>\n",
       "</tr>\n",
       "<tr>\n",
       "  <th>Radio</th>     <td>    0.1854</td> <td>    0.010</td> <td>   18.304</td> <td> 0.000</td> <td>    0.165</td> <td>    0.205</td>\n",
       "</tr>\n",
       "<tr>\n",
       "  <th>Newspaper</th> <td>    0.0016</td> <td>    0.007</td> <td>    0.214</td> <td> 0.831</td> <td>   -0.013</td> <td>    0.016</td>\n",
       "</tr>\n",
       "</table>\n",
       "<table class=\"simpletable\">\n",
       "<tr>\n",
       "  <th>Omnibus:</th>       <td>50.715</td> <th>  Durbin-Watson:     </th> <td>   2.130</td>\n",
       "</tr>\n",
       "<tr>\n",
       "  <th>Prob(Omnibus):</th> <td> 0.000</td> <th>  Jarque-Bera (JB):  </th> <td> 141.922</td>\n",
       "</tr>\n",
       "<tr>\n",
       "  <th>Skew:</th>          <td>-1.416</td> <th>  Prob(JB):          </th> <td>1.52e-31</td>\n",
       "</tr>\n",
       "<tr>\n",
       "  <th>Kurtosis:</th>      <td> 7.039</td> <th>  Cond. No.          </th> <td>    456.</td>\n",
       "</tr>\n",
       "</table><br/><br/>Notes:<br/>[1] Standard Errors assume that the covariance matrix of the errors is correctly specified."
      ],
      "text/latex": [
       "\\begin{center}\n",
       "\\begin{tabular}{lclc}\n",
       "\\toprule\n",
       "\\textbf{Dep. Variable:}    &      Sales       & \\textbf{  R-squared:         } &     0.895   \\\\\n",
       "\\textbf{Model:}            &       OLS        & \\textbf{  Adj. R-squared:    } &     0.892   \\\\\n",
       "\\textbf{Method:}           &  Least Squares   & \\textbf{  F-statistic:       } &     384.7   \\\\\n",
       "\\textbf{Date:}             & Tue, 12 Aug 2025 & \\textbf{  Prob (F-statistic):} &  3.19e-66   \\\\\n",
       "\\textbf{Time:}             &     16:49:32     & \\textbf{  Log-Likelihood:    } &   -271.78   \\\\\n",
       "\\textbf{No. Observations:} &         140      & \\textbf{  AIC:               } &     551.6   \\\\\n",
       "\\textbf{Df Residuals:}     &         136      & \\textbf{  BIC:               } &     563.3   \\\\\n",
       "\\textbf{Df Model:}         &           3      & \\textbf{                     } &             \\\\\n",
       "\\textbf{Covariance Type:}  &    nonrobust     & \\textbf{                     } &             \\\\\n",
       "\\bottomrule\n",
       "\\end{tabular}\n",
       "\\begin{tabular}{lcccccc}\n",
       "                   & \\textbf{coef} & \\textbf{std err} & \\textbf{t} & \\textbf{P$> |$t$|$} & \\textbf{[0.025} & \\textbf{0.975]}  \\\\\n",
       "\\midrule\n",
       "\\textbf{const}     &       2.9389  &        0.389     &     7.557  &         0.000        &        2.170    &        3.708     \\\\\n",
       "\\textbf{TV}        &       0.0461  &        0.002     &    26.799  &         0.000        &        0.043    &        0.049     \\\\\n",
       "\\textbf{Radio}     &       0.1854  &        0.010     &    18.304  &         0.000        &        0.165    &        0.205     \\\\\n",
       "\\textbf{Newspaper} &       0.0016  &        0.007     &     0.214  &         0.831        &       -0.013    &        0.016     \\\\\n",
       "\\bottomrule\n",
       "\\end{tabular}\n",
       "\\begin{tabular}{lclc}\n",
       "\\textbf{Omnibus:}       & 50.715 & \\textbf{  Durbin-Watson:     } &    2.130  \\\\\n",
       "\\textbf{Prob(Omnibus):} &  0.000 & \\textbf{  Jarque-Bera (JB):  } &  141.922  \\\\\n",
       "\\textbf{Skew:}          & -1.416 & \\textbf{  Prob(JB):          } & 1.52e-31  \\\\\n",
       "\\textbf{Kurtosis:}      &  7.039 & \\textbf{  Cond. No.          } &     456.  \\\\\n",
       "\\bottomrule\n",
       "\\end{tabular}\n",
       "%\\caption{OLS Regression Results}\n",
       "\\end{center}\n",
       "\n",
       "Notes: \\newline\n",
       " [1] Standard Errors assume that the covariance matrix of the errors is correctly specified."
      ],
      "text/plain": [
       "<class 'statsmodels.iolib.summary.Summary'>\n",
       "\"\"\"\n",
       "                            OLS Regression Results                            \n",
       "==============================================================================\n",
       "Dep. Variable:                  Sales   R-squared:                       0.895\n",
       "Model:                            OLS   Adj. R-squared:                  0.892\n",
       "Method:                 Least Squares   F-statistic:                     384.7\n",
       "Date:                Tue, 12 Aug 2025   Prob (F-statistic):           3.19e-66\n",
       "Time:                        16:49:32   Log-Likelihood:                -271.78\n",
       "No. Observations:                 140   AIC:                             551.6\n",
       "Df Residuals:                     136   BIC:                             563.3\n",
       "Df Model:                           3                                         \n",
       "Covariance Type:            nonrobust                                         \n",
       "==============================================================================\n",
       "                 coef    std err          t      P>|t|      [0.025      0.975]\n",
       "------------------------------------------------------------------------------\n",
       "const          2.9389      0.389      7.557      0.000       2.170       3.708\n",
       "TV             0.0461      0.002     26.799      0.000       0.043       0.049\n",
       "Radio          0.1854      0.010     18.304      0.000       0.165       0.205\n",
       "Newspaper      0.0016      0.007      0.214      0.831      -0.013       0.016\n",
       "==============================================================================\n",
       "Omnibus:                       50.715   Durbin-Watson:                   2.130\n",
       "Prob(Omnibus):                  0.000   Jarque-Bera (JB):              141.922\n",
       "Skew:                          -1.416   Prob(JB):                     1.52e-31\n",
       "Kurtosis:                       7.039   Cond. No.                         456.\n",
       "==============================================================================\n",
       "\n",
       "Notes:\n",
       "[1] Standard Errors assume that the covariance matrix of the errors is correctly specified.\n",
       "\"\"\""
      ]
     },
     "execution_count": 50,
     "metadata": {},
     "output_type": "execute_result"
    }
   ],
   "source": [
    "mul_model.summary()"
   ]
  },
  {
   "cell_type": "code",
   "execution_count": null,
   "id": "78740e8c-ec40-419b-ad00-4ebe2433b82a",
   "metadata": {},
   "outputs": [],
   "source": []
  },
  {
   "cell_type": "markdown",
   "id": "869ea1f0-e9eb-4c1e-b1d3-867039a77864",
   "metadata": {},
   "source": [
    "### 📌 **Regresión Polinómica**\n",
    "\n",
    "La **regresión polinómica** es una extensión de la regresión lineal que permite modelar relaciones no lineales entre las variables. En la regresión lineal simple, la relación entre la variable dependiente $ y $ y la variable independiente $ x $ se expresa como:\n",
    "\n",
    "$\n",
    "h(x) = \\theta_0 + \\theta_1 x\n",
    "$\n",
    "\n",
    "Sin embargo, en muchos casos, los datos pueden seguir un patrón no lineal. Para capturar esta relación, podemos extender la ecuación a una función polinómica de grado \\( n \\):\n",
    "\n",
    "$\n",
    "h(x) = \\theta_0 + \\theta_1 x + \\theta_2 x^2 + \\theta_3 x^3 + \\dots + \\theta_n x^n\n",
    "$\n",
    "\n",
    "Aquí, los coeficientes $ \\theta_0, \\theta_1, ..., \\theta_n $ son los parámetros del modelo que se ajustan mediante el algoritmo de regresión. La regresión polinómica sigue siendo un modelo **lineal en los parámetros**, pero la variable independiente se eleva a diferentes potencias.\n",
    "\n",
    "### 🔹 **Ejemplo en Python: Comparación entre regresión lineal y polinómica**\n",
    "- **La regresión lineal** no captura la verdadera forma de los datos.  \n",
    "------\n",
    " 😊"
   ]
  },
  {
   "cell_type": "code",
   "execution_count": 51,
   "id": "f4571292-1781-4a55-b2a9-cf91f608ec01",
   "metadata": {},
   "outputs": [
    {
     "data": {
      "image/png": "[encoded data removed]",
      "text/plain": [
       "<Figure size 640x480 with 1 Axes>"
      ]
     },
     "metadata": {},
     "output_type": "display_data"
    }
   ],
   "source": [
    "np.random.seed(42)\n",
    "x = np.linspace(-3, 3, 30).reshape(-1, 1)\n",
    "y = x**3 - 2*x**2 + x + np.random.randn(30, 1) * 2  # Relación cúbica con ruido\n",
    "\n",
    "# Agregar término de sesgo para regresión lineal\n",
    "X_lin = sm.add_constant(x)\n",
    "# Ajustar modelo de regresión lineal con statsmodels\n",
    "lin_model = sm.OLS(y, X_lin).fit()\n",
    "y_pred_lin_sm = lin_model.predict(X_lin)\n",
    "\n",
    "# Datos generados\n",
    "plt.scatter(x, y, color='blue', label='Datos generados')\n",
    "# Regresión Lineal (statsmodels)\n",
    "plt.plot(x, y_pred_lin_sm, color='red', linestyle='--', label='Regresión Lineal')\n",
    "\n",
    "plt.xlabel(\"X\")\n",
    "plt.ylabel(\"y\")\n",
    "plt.legend()\n",
    "plt.show()"
   ]
  },
  {
   "cell_type": "markdown",
   "id": "938d9666-cbc2-48c1-9275-99b2c9e02312",
   "metadata": {},
   "source": [
    "### 🔹 Crear variables polinómicas manualmente (grado 3)"
   ]
  },
  {
   "cell_type": "code",
   "execution_count": 52,
   "id": "fa1adb68-be05-4749-8796-3840421dff56",
   "metadata": {},
   "outputs": [],
   "source": [
    "X_poly = np.column_stack((x, x**2, x**3))\n",
    "X_poly = sm.add_constant(X_poly)  # Agregar término de sesgo\n",
    "# Ajustar modelo de regresión polinómica con statsmodels\n",
    "poly_model = sm.OLS(y, X_poly).fit()\n",
    "y_pred_poly_sm = poly_model.predict(X_poly)\n"
   ]
  },
  {
   "cell_type": "code",
   "execution_count": 53,
   "id": "fa7ca12e-a9a5-4e9c-bd9b-debc0f8861b5",
   "metadata": {},
   "outputs": [
    {
     "data": {
      "image/png": "[encoded data removed]",
      "text/plain": [
       "<Figure size 640x480 with 1 Axes>"
      ]
     },
     "metadata": {},
     "output_type": "display_data"
    }
   ],
   "source": [
    "# Datos generados\n",
    "plt.scatter(x, y, color='blue', label='Datos generados')\n",
    "# Regresión Polinómica (statsmodels, grado 3)\n",
    "plt.plot(x, y_pred_poly_sm, color='green', label='Regresión Polinómica (grado 3)')\n",
    "\n",
    "# Regresión Lineal (statsmodels)\n",
    "plt.plot(x, y_pred_lin_sm, color='red', linestyle='--', label='Regresión Lineal')\n",
    "\n",
    "plt.xlabel(\"X\")\n",
    "plt.ylabel(\"y\")\n",
    "plt.legend()\n",
    "plt.title(\"Comparación entre Regresión Lineal y Polinómica con Statsmodels\")\n",
    "plt.show()"
   ]
  },
  {
   "cell_type": "markdown",
   "id": "96d54814-b6bc-4011-99cb-52a89bc79d2b",
   "metadata": {},
   "source": [
    "\n",
    "En la gráfica puedes ver la diferencia entre la regresión lineal (línea roja discontinua) y la regresión polinómica (línea verde).  \n",
    "\n",
    "- **La regresión lineal** no captura la verdadera forma de los datos, ya que asume una relación estrictamente lineal.  \n",
    "- **La regresión polinómica (grado 3)** logra adaptarse mejor a la tendencia real de los datos, que sigue una relación cúbica."
   ]
  },
  {
   "cell_type": "markdown",
   "id": "ea1b4905-acc0-43e0-83c9-c68caf88902b",
   "metadata": {},
   "source": [
    "----\n",
    "📖 **Caso 1: Análisis del impacto de la inversión publicitaria en TV, radio y periódicos sobre las ventas de un producto en diferentes mercados.**\n",
    "\n",
    "📂 **Datos:** : `Advertising.csv`\n"
   ]
  },
  {
   "cell_type": "code",
   "execution_count": 55,
   "id": "1c381cc2-a0a9-4930-83e3-c792a7e77476",
   "metadata": {},
   "outputs": [
    {
     "data": {
      "text/html": [
       "<div>\n",
       "<style scoped>\n",
       "    .dataframe tbody tr th:only-of-type {\n",
       "        vertical-align: middle;\n",
       "    }\n",
       "\n",
       "    .dataframe tbody tr th {\n",
       "        vertical-align: top;\n",
       "    }\n",
       "\n",
       "    .dataframe thead th {\n",
       "        text-align: right;\n",
       "    }\n",
       "</style>\n",
       "<table border=\"1\" class=\"dataframe\">\n",
       "  <thead>\n",
       "    <tr style=\"text-align: right;\">\n",
       "      <th></th>\n",
       "      <th>TV</th>\n",
       "      <th>Radio</th>\n",
       "      <th>Newspaper</th>\n",
       "      <th>Sales</th>\n",
       "    </tr>\n",
       "  </thead>\n",
       "  <tbody>\n",
       "    <tr>\n",
       "      <th>1</th>\n",
       "      <td>230.1</td>\n",
       "      <td>37.8</td>\n",
       "      <td>69.2</td>\n",
       "      <td>22.1</td>\n",
       "    </tr>\n",
       "    <tr>\n",
       "      <th>2</th>\n",
       "      <td>44.5</td>\n",
       "      <td>39.3</td>\n",
       "      <td>45.1</td>\n",
       "      <td>10.4</td>\n",
       "    </tr>\n",
       "    <tr>\n",
       "      <th>3</th>\n",
       "      <td>17.2</td>\n",
       "      <td>45.9</td>\n",
       "      <td>69.3</td>\n",
       "      <td>9.3</td>\n",
       "    </tr>\n",
       "    <tr>\n",
       "      <th>4</th>\n",
       "      <td>151.5</td>\n",
       "      <td>41.3</td>\n",
       "      <td>58.5</td>\n",
       "      <td>18.5</td>\n",
       "    </tr>\n",
       "    <tr>\n",
       "      <th>5</th>\n",
       "      <td>180.8</td>\n",
       "      <td>10.8</td>\n",
       "      <td>58.4</td>\n",
       "      <td>12.9</td>\n",
       "    </tr>\n",
       "  </tbody>\n",
       "</table>\n",
       "</div>"
      ],
      "text/plain": [
       "      TV  Radio  Newspaper  Sales\n",
       "1  230.1   37.8       69.2   22.1\n",
       "2   44.5   39.3       45.1   10.4\n",
       "3   17.2   45.9       69.3    9.3\n",
       "4  151.5   41.3       58.5   18.5\n",
       "5  180.8   10.8       58.4   12.9"
      ]
     },
     "execution_count": 55,
     "metadata": {},
     "output_type": "execute_result"
    }
   ],
   "source": [
    "df = pd.read_csv('data/Advertising.csv', index_col=0)\n",
    "df.head()"
   ]
  },
  {
   "cell_type": "code",
   "execution_count": 56,
   "id": "4b0cfc27-d39d-40cf-a21f-f3fc1c118ef9",
   "metadata": {},
   "outputs": [],
   "source": [
    "# Definir variables predictoras (X) y la variable objetivo (Y)\n",
    "X = pd.DataFrame({\n",
    "    \"TV\": df[\"TV\"],\n",
    "    \"TV_2\": df[\"TV\"] ** 2,\n",
    "    \"TV_3\": df[\"TV\"] ** 3\n",
    "})\n",
    "\n",
    "y = df[\"Sales\"]  # Variable objetivo\n",
    "### Splitting Dataset ###\n",
    "X_train, X_test, y_train, y_test = train_test_split( X, y , test_size = 0.3, random_state = 1234)\n",
    "# Agregar término de sesgo para regresión lineal\n",
    "X_train = sm.add_constant(X_train)\n",
    "X_test = sm.add_constant(X_test)"
   ]
  },
  {
   "cell_type": "code",
   "execution_count": 57,
   "id": "6228f266-e9ea-4a67-a0b1-e38a252a98b9",
   "metadata": {},
   "outputs": [
    {
     "data": {
      "text/plain": [
       "const    5.586297e+00\n",
       "TV       9.114195e-02\n",
       "TV_2    -2.528888e-04\n",
       "TV_3     3.902134e-07\n",
       "dtype: float64"
      ]
     },
     "execution_count": 57,
     "metadata": {},
     "output_type": "execute_result"
    }
   ],
   "source": [
    "# Ajustar modelo de regresión polinómica con statsmodels\n",
    "poly_model1 = sm.OLS(y_train, X_train).fit()\n",
    "\n",
    "y_pred = poly_model1.predict(X_test)\n",
    "poly_model1.params"
   ]
  },
  {
   "cell_type": "code",
   "execution_count": 58,
   "id": "971263ff-7e45-45c5-a410-7f23f60465a4",
   "metadata": {},
   "outputs": [
    {
     "data": {
      "image/png": "[encoded data removed]",
      "text/plain": [
       "<Figure size 640x480 with 1 Axes>"
      ]
     },
     "metadata": {},
     "output_type": "display_data"
    }
   ],
   "source": [
    "# \n",
    "df.plot(kind='scatter', x='TV', y='Sales')\n",
    "# Regresión Polinómica (statsmodels, grado 3)\n",
    "plt.plot(X_test['TV'], y_pred, '.g', label='Regresión Polinómica (grado 3)')\n",
    "\n",
    "\n",
    "plt.plot(X_test['TV'], np.array(y_hat), c='red', linewidth=2)\n",
    "\n",
    "plt.xlabel(\"X\")\n",
    "plt.ylabel(\"y\")\n",
    "plt.legend()\n",
    "plt.title(\"Comparación entre Regresión Lineal y Polinómica con Statsmodels\")\n",
    "plt.show()\n"
   ]
  },
  {
   "cell_type": "code",
   "execution_count": 60,
   "id": "23ce7789-d474-45b6-9927-1cd697ca9f41",
   "metadata": {},
   "outputs": [
    {
     "name": "stdout",
     "output_type": "stream",
     "text": [
      "MSE poly 1:  9.726579874608865\n",
      "MSE simple:  9.941261511364454\n"
     ]
    }
   ],
   "source": [
    "mse_poly1 = mean_squared_error(y_test, y_pred)\n",
    "print('MSE poly 1: ', mse_poly1)\n",
    "print(\"MSE simple: \",mse_simple)"
   ]
  },
  {
   "cell_type": "code",
   "execution_count": 61,
   "id": "5954ff61-9e43-44d1-9dd5-e75fabc3d014",
   "metadata": {},
   "outputs": [
    {
     "data": {
      "image/png": "[encoded data removed]",
      "text/plain": [
       "<Figure size 640x480 with 1 Axes>"
      ]
     },
     "metadata": {},
     "output_type": "display_data"
    }
   ],
   "source": [
    "X_poly = sm.add_constant(np.sqrt(df[\"TV\"]))  # Agregar término de sesgo\n",
    "y = df[\"Sales\"]\n",
    "X_train, X_test, y_train, y_test = train_test_split( X_poly, y , test_size = 0.3, random_state = 1234)\n",
    "# Ajustar modelo de regresión polinómica con statsmodels\n",
    "poly_model2 = sm.OLS(y_train, X_train).fit()\n",
    "y_pred = poly_model2.predict(X_test)\n",
    "\n",
    "# \n",
    "df.plot(kind='scatter', x='TV', y='Sales')\n",
    "# Regresión Polinómica (statsmodels, grado 3)\n",
    "plt.plot(X_test['TV']**2, y_pred, '.g', label='Regresión Polinómica (con sqrt)')\n",
    "plt.plot(X_test['TV']**2, y_hat, c='red', linewidth=2)\n",
    "plt.xlabel(\"X\")\n",
    "plt.ylabel(\"y\")\n",
    "plt.legend()\n",
    "plt.title(\"Comparación entre Regresión Lineal y Polinómica con Statsmodels\")\n",
    "plt.show()"
   ]
  },
  {
   "cell_type": "code",
   "execution_count": 64,
   "id": "16079ca1-2711-4345-bfa2-34c5f71c1caf",
   "metadata": {},
   "outputs": [
    {
     "name": "stdout",
     "output_type": "stream",
     "text": [
      "MSE poly 2: 9.80470599410895\n",
      "MSE simple:  9.941261511364454\n"
     ]
    }
   ],
   "source": [
    "mse_poly2 = mean_squared_error(y_test, y_pred)\n",
    "print('MSE poly 2:', mse_poly2)\n",
    "print(\"MSE simple: \",mse_simple)\n"
   ]
  },
  {
   "cell_type": "code",
   "execution_count": 65,
   "id": "bc5c2add-6e7b-4504-8c7e-a516d4806e8f",
   "metadata": {},
   "outputs": [],
   "source": [
    "# Definir variables predictoras (X) y la variable objetivo (Y)\n",
    "X = pd.DataFrame({\n",
    "    \"TV\": df[\"TV\"],\n",
    "    \"TV_2\": np.sqrt(df[\"TV\"]),\n",
    "    \"Radio\": df[\"Radio\"] \n",
    "})\n",
    "\n",
    "y = df[\"Sales\"]  # Variable objetivo\n",
    "### Splitting Dataset ###\n",
    "X_train, X_test, y_train, y_test = train_test_split( X, y , test_size = 0.3, random_state = 1234)\n",
    "# Agregar término de sesgo para regresión lineal\n",
    "X_train = sm.add_constant(X_train)\n",
    "X_test = sm.add_constant(X_test)\n",
    "# Ajustar modelo de regresión polinómica con statsmodels\n",
    "poly_model3 = sm.OLS(y_train, X_train).fit()\n",
    "\n",
    "y_pred = poly_model3.predict(X_test)\n",
    "\n"
   ]
  },
  {
   "cell_type": "code",
   "execution_count": 66,
   "id": "ec7e2981-7ed5-4b98-8ed8-c5c95518f0d5",
   "metadata": {},
   "outputs": [
    {
     "name": "stdout",
     "output_type": "stream",
     "text": [
      "MSE poly 3: 1.7686234017214262\n"
     ]
    },
    {
     "ename": "NameError",
     "evalue": "name 'mse_tv_radio' is not defined",
     "output_type": "error",
     "traceback": [
      "\u001b[1;31m---------------------------------------------------------------------------\u001b[0m",
      "\u001b[1;31mNameError\u001b[0m                                 Traceback (most recent call last)",
      "Cell \u001b[1;32mIn[66], line 4\u001b[0m\n\u001b[0;32m      1\u001b[0m mse_poly3 \u001b[38;5;241m=\u001b[39m mean_squared_error(y_test, y_pred)\n\u001b[0;32m      3\u001b[0m \u001b[38;5;28mprint\u001b[39m(\u001b[38;5;124m'\u001b[39m\u001b[38;5;124mMSE poly 3:\u001b[39m\u001b[38;5;124m'\u001b[39m, mse_poly3)\n\u001b[1;32m----> 4\u001b[0m \u001b[38;5;28mprint\u001b[39m(\u001b[38;5;124m'\u001b[39m\u001b[38;5;124mMSE multiple:\u001b[39m\u001b[38;5;124m'\u001b[39m, \u001b[43mmse_tv_radio\u001b[49m)\n\u001b[0;32m      5\u001b[0m \u001b[38;5;28mprint\u001b[39m(\u001b[38;5;124m\"\u001b[39m\u001b[38;5;124mMSE simple: \u001b[39m\u001b[38;5;124m\"\u001b[39m,mse_simple)\n",
      "\u001b[1;31mNameError\u001b[0m: name 'mse_tv_radio' is not defined"
     ]
    }
   ],
   "source": [
    "mse_poly3 = mean_squared_error(y_test, y_pred)\n",
    "\n",
    "print('MSE poly 3:', mse_poly3)\n",
    "print('MSE multiple:', mse_tv_radio)\n",
    "print(\"MSE simple: \",mse_simple)"
   ]
  },
  {
   "cell_type": "code",
   "execution_count": null,
   "id": "ae457a0e-4ea3-40f5-85f0-71a1309529e9",
   "metadata": {},
   "outputs": [],
   "source": []
  },
  {
   "cell_type": "code",
   "execution_count": null,
   "id": "68b3ed94-e47f-40c2-a78a-c3e34614bc23",
   "metadata": {},
   "outputs": [],
   "source": []
  },
  {
   "cell_type": "markdown",
   "id": "c8748e25-8d96-4f2c-a141-e7b3cd1587ce",
   "metadata": {},
   "source": [
    "## **Caso 2 (Trabajo Independiente): Temperatura y Ventas de Helado (Relación No Lineal)**\n",
    "\n",
    "📂 **Dataset:** `Ice_cream_selling_data.csv`  \n",
    "📊 **Relación esperada:** No lineal  \n",
    "\n",
    "### **Parte 1: Estimar modelo lineal**\n",
    "1. Cargar los datos \n",
    "2. Ajustar una **regresión lineal** usando `statsmodels`. .\n",
    "3. Visualizar la relación mediante un **gráfico de dispersión**  y  visualizar la linea del modelo  \n",
    "\n",
    "---"
   ]
  },
  {
   "cell_type": "code",
   "execution_count": null,
   "id": "ac6c11f5-fa80-46b0-9346-6ec7088b6329",
   "metadata": {},
   "outputs": [],
   "source": []
  },
  {
   "cell_type": "code",
   "execution_count": null,
   "id": "f4553039-1c30-4b79-ac2c-d031b0827cd3",
   "metadata": {},
   "outputs": [],
   "source": []
  },
  {
   "cell_type": "markdown",
   "id": "e7acce49-503e-4509-a4ef-112b4f8117d5",
   "metadata": {},
   "source": [
    "### **Parte 2: Estimar modelo lineal usando regresión polinomica**\n",
    "1. Cargar los datos \n",
    "2. Ajustar una **regresión lineal** usando `statsmodels` y transformando la variable predictora con una relación polinomica.\n",
    "3. Comparar desempeño\n",
    "\n",
    "---"
   ]
  },
  {
   "cell_type": "code",
   "execution_count": null,
   "id": "248105a1-b6ad-4ea1-9dff-23d2796caa03",
   "metadata": {},
   "outputs": [],
   "source": []
  },
  {
   "cell_type": "code",
   "execution_count": null,
   "id": "14b01f7b-0ac8-491d-9dc6-5fcecabf4db4",
   "metadata": {},
   "outputs": [],
   "source": []
  }
 ],
 "metadata": {
  "kernelspec": {
   "display_name": "Python 3 (ipykernel)",
   "language": "python",
   "name": "python3"
  },
  "language_info": {
   "codemirror_mode": {
    "name": "ipython",
    "version": 3
   },
   "file_extension": ".py",
   "mimetype": "text/x-python",
   "name": "python",
   "nbconvert_exporter": "python",
   "pygments_lexer": "ipython3",
   "version": "3.9.23"
  }
 },
 "nbformat": 4,
 "nbformat_minor": 5
}
